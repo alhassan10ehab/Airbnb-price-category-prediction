{
  "metadata": {
    "kernelspec": {
      "language": "python",
      "display_name": "Python 3",
      "name": "python3"
    },
    "language_info": {
      "name": "python",
      "version": "3.7.12",
      "mimetype": "text/x-python",
      "codemirror_mode": {
        "name": "ipython",
        "version": 3
      },
      "pygments_lexer": "ipython3",
      "nbconvert_exporter": "python",
      "file_extension": ".py"
    },
    "colab": {
      "provenance": [],
      "collapsed_sections": [
        "55-vhKP-fQGc",
        "NITd_P2MeB6e",
        "TTLf2aIneWBW",
        "IA47j6GgeeJl",
        "HLFTSbMxelvU",
        "YLDgjF-2eqX8",
        "_wCweFLoezXd"
      ]
    }
  },
  "nbformat_minor": 0,
  "nbformat": 4,
  "cells": [
    {
      "cell_type": "markdown",
      "source": [
        "#questions\n",
        "\n",
        "#Define the problem\n",
        "The problem we aim to solve is determining the appropriate listing price for a new Airbnb listing, which is a common challenge for hosts. To accomplish this, we will use the listing's characteristics and images to predict its price. Our objective is to provide hosts with a reliable and accurate estimate of their listing's value, making it easier for them to set a competitive price and attract potential guests.\n",
        "\n",
        "#What is the input?\n",
        "The input data for our problem consists of images and descriptions for various types of buildings, including houses, apartments, and others.\n",
        "\n",
        "\n",
        "#What is the output?\n",
        "Our model's output is twofold - it predicts both the type of the building (e.g. house, apartment) and its corresponding price. This prediction is based on the input image and summary provided\n",
        "\n",
        "\n",
        "#What data mining function is required?\n",
        "classification problem\n",
        "\n",
        "\n",
        "#What is an ideal solution?\n",
        "Our ultimate objective for this problem is to develop a model that can accurately predict both the type and price of any new Airbnb listing, with optimal accuracy. While achieving perfect prediction accuracy\n",
        "\n",
        "according to my trials the first was the best model\n",
        "\n",
        "\n",
        "#What could be the challenges?\n",
        "the biggest challenge is how to deal with imges and text at the same time\n",
        "\n",
        "\n",
        "#Is fully-connected model a good one for sequential data? Why? How about for image data? Is it good? Why?\n",
        "\n",
        "A fully-connected model is generally not a good choice for sequential data, such as time series or natural language data, because it does not take into account the sequential nature of the data. Instead, recurrent neural networks (RNNs) and their variants, such as LSTM and GRU networks, are commonly used for sequential data as they are designed to capture the temporal dependencies and patterns in the data.\n",
        "\n",
        "On the other hand, fully-connected models can be effective for image data, but are generally not the best choice. Convolutional neural networks (CNNs) are specifically designed for image data and are widely used for image classification, object detection, and other computer vision tasks. CNNs are effective because they can identify and extract important features from the images, while fully-connected models treat each pixel independently without taking into account the spatial relationships between them.\n",
        "\n",
        "\n",
        "#What is gradient vanishing and gradient explosion, and how GRU/LSTM tries to mitigate this problem?\n",
        "Gradient vanishing and gradient explosion are two problems that can occur during the training of deep neural networks. Gradient vanishing occurs when the gradients that are propagated back through the network during training become very small, making it difficult for the network to learn long-term dependencies. Gradient explosion occurs when the gradients become very large, causing the network to diverge during training.\n",
        "\n",
        "GRU (Gated Recurrent Unit) and LSTM (Long Short-Term Memory) accomplish this by incorporating gating mechanisms that allow the network to selectively retain or discard information from previous time steps\n",
        "\n",
        "In the case of LSTM networks, the gating mechanism consists of three gates: the input gate, the forget gate, and the output gate. These gates allow the network to selectively remember or forget information from previous time steps, which helps to prevent the gradients from becoming too small and allows the network to learn long-term dependencies.\n",
        "\n",
        "\n",
        "Similarly, GRU networks use two gates: the update gate and the reset gate. These gates allow the network to selectively update the hidden state based on the new input and the previous hidden state.\n",
        "\n",
        "\n",
        "#What is multi-objective/multi-task learning? What is multi-modality learning? How do you use them in this assignment?\n",
        "Multi-objective/multi-task learning refers to the use of a single model to solve multiple related tasks simultaneously. Instead of training separate models for each task\n",
        "\n",
        "Multi-modality learning refers to the use of multiple types of data, such as images and text, to train a single model. By combining information from multiple modalities, the model can capture more complex relationships and patterns in the data, leading to improved performance on the task at hand.\n",
        "\n",
        "objective/multi-task learning could be used to predict both the type and price of the listing, rather than training separate models for each task. By sharing parameters between the two tasks.\n",
        "\n",
        "\n",
        "#What is the difference among xgboost, lightgbm and catboost?\n",
        "XGBoost, LightGBM, and CatBoost are all gradient boosting frameworks that are used for supervised learning tasks such as classification and regression.\n",
        "\n",
        "The main differences between them are:\n",
        "\n",
        "1-XGBoost is designed to be highly scalable and can handle large, complex datasets. It uses a decision tree-based approach and a regularized learning objective.\n",
        "\n",
        "2-LightGBM is highly efficient and can handle large-scale datasets with high-dimensional features. It uses a histogram-based approach to binning continuous features and has a fast training process.\n",
        "\n",
        "3-CatBoost is designed to handle categorical features more effectively than other gradient boosting frameworks. It uses a combination of decision trees and gradient boosting, and has built-in handling for missing values.\n"
      ],
      "metadata": {
        "id": "EJk8eLu309KF"
      }
    },
    {
      "cell_type": "markdown",
      "source": [
        "#preprocessing and visualization"
      ],
      "metadata": {
        "id": "55-vhKP-fQGc"
      }
    },
    {
      "cell_type": "code",
      "source": [
        "# This Python 3 environment comes with many helpful analytics libraries installed\n",
        "# It is defined by the kaggle/python Docker image: https://github.com/kaggle/docker-python\n",
        "# For example, here's several helpful packages to load\n",
        "\n",
        "import numpy as np # linear algebra\n",
        "import pandas as pd # data processing, CSV file I/O (e.g. pd.read_csv)\n",
        "\n",
        "# Input data files are available in the read-only \"../input/\" directory\n",
        "# For example, running this (by clicking run or pressing Shift+Enter) will list all files under the input directory\n",
        "\n",
        "import os\n",
        "for dirname, _, filenames in os.walk('/kaggle/input'):\n",
        "    for filename in filenames:\n",
        "        print(os.path.join(dirname, filename))\n",
        "\n",
        "# You can write up to 20GB to the current directory (/kaggle/working/) that gets preserved as output when you create a version using \"Save & Run All\" \n",
        "# You can also write temporary files to /kaggle/temp/, but they won't be saved outside of the current session"
      ],
      "metadata": {
        "_uuid": "8f2839f25d086af736a60e9eeb907d3b93b6e0e5",
        "_cell_guid": "b1076dfc-b9ad-4769-8c92-a6c4dae69d19",
        "execution": {
          "iopub.status.busy": "2023-04-13T16:46:55.845882Z",
          "iopub.execute_input": "2023-04-13T16:46:55.846834Z",
          "iopub.status.idle": "2023-04-13T16:46:55.852140Z",
          "shell.execute_reply.started": "2023-04-13T16:46:55.846798Z",
          "shell.execute_reply": "2023-04-13T16:46:55.851017Z"
        },
        "trusted": true,
        "id": "3w78HD4wTfd-"
      },
      "execution_count": null,
      "outputs": []
    },
    {
      "cell_type": "code",
      "source": [
        "#import libraries\n",
        "import pandas as pd\n",
        "import numpy as np\n",
        "import matplotlib.pyplot as plt\n",
        "from tqdm.notebook import tqdm\n",
        "\n",
        "\n",
        "#libraries related to text processing\n",
        "!pip install langdetect\n",
        "!pip install deep_translator\n",
        "from deep_translator import GoogleTranslator\n",
        "import nltk\n",
        "import string\n",
        "import re\n",
        "from nltk.tokenize import word_tokenize\n",
        "from tensorflow.keras.preprocessing.text import Tokenizer\n",
        "from tensorflow.keras.preprocessing.sequence import pad_sequences\n",
        "from nltk.corpus import stopwords\n",
        "from nltk.stem.snowball import SnowballStemmer\n",
        "from sklearn.feature_extraction.text import TfidfVectorizer\n",
        "\n",
        "##libraries related to models and layers\n",
        "import tensorflow as tf\n",
        "from tensorflow import keras\n",
        "from tensorflow.keras import layers\n",
        "from tensorflow.keras.layers import Conv2D, Flatten, Dense, MaxPool2D, Dropout, MaxPooling2D\n",
        "from tensorflow.keras.applications import VGG19\n",
        "from tensorflow.keras.optimizers import Adam\n",
        "\n"
      ],
      "metadata": {
        "execution": {
          "iopub.status.busy": "2023-04-13T23:21:54.056532Z",
          "iopub.execute_input": "2023-04-13T23:21:54.056901Z",
          "iopub.status.idle": "2023-04-13T23:21:54.065732Z",
          "shell.execute_reply.started": "2023-04-13T23:21:54.056863Z",
          "shell.execute_reply": "2023-04-13T23:21:54.064559Z"
        },
        "trusted": true,
        "id": "dQExki_nTfd_"
      },
      "execution_count": null,
      "outputs": []
    },
    {
      "cell_type": "code",
      "source": [
        "#download punkt pakages from nltk library\n",
        "nltk.download('punkt')\n",
        "#download stopwords pakages from nltk library\n",
        "nltk.download('stopwords')\n",
        "#download wordnet pakages from nltk library\n",
        "nltk.download('wordnet')"
      ],
      "metadata": {
        "execution": {
          "iopub.status.busy": "2023-04-13T18:42:03.313077Z",
          "iopub.execute_input": "2023-04-13T18:42:03.313781Z",
          "iopub.status.idle": "2023-04-13T18:42:03.383924Z",
          "shell.execute_reply.started": "2023-04-13T18:42:03.313743Z",
          "shell.execute_reply": "2023-04-13T18:42:03.382851Z"
        },
        "trusted": true,
        "id": "6gwIcoStTfeA",
        "outputId": "be794d46-a2ad-4dd7-e75e-2bbcb013e768"
      },
      "execution_count": null,
      "outputs": [
        {
          "name": "stdout",
          "text": "[nltk_data] Downloading package punkt to /usr/share/nltk_data...\n[nltk_data]   Package punkt is already up-to-date!\n[nltk_data] Downloading package stopwords to /usr/share/nltk_data...\n[nltk_data]   Package stopwords is already up-to-date!\n[nltk_data] Downloading package wordnet to /usr/share/nltk_data...\n[nltk_data]   Package wordnet is already up-to-date!\n",
          "output_type": "stream"
        },
        {
          "execution_count": 36,
          "output_type": "execute_result",
          "data": {
            "text/plain": "True"
          },
          "metadata": {}
        }
      ]
    },
    {
      "cell_type": "code",
      "source": [
        "#read train data \n",
        "df_train= pd.read_csv('/kaggle/input/copy-of-cisc-873-dm-w23-a4/a4/train_xy.csv')\n",
        "df_train.head()"
      ],
      "metadata": {
        "execution": {
          "iopub.status.busy": "2023-04-14T01:03:12.602517Z",
          "iopub.execute_input": "2023-04-14T01:03:12.603473Z",
          "iopub.status.idle": "2023-04-14T01:03:12.695246Z",
          "shell.execute_reply.started": "2023-04-14T01:03:12.603420Z",
          "shell.execute_reply": "2023-04-14T01:03:12.694110Z"
        },
        "trusted": true,
        "id": "ihW2zaf9TfeB",
        "outputId": "5b2923c0-1a7f-426b-eedb-bee6941a885d"
      },
      "execution_count": null,
      "outputs": [
        {
          "execution_count": 229,
          "output_type": "execute_result",
          "data": {
            "text/plain": "                                             summary            image  \\\n0  Spacious, sunny and cozy modern apartment in t...  img_train/0.jpg   \n1  Located in one of the most vibrant and accessi...  img_train/1.jpg   \n2  Logement coquet et douillet à 10 minutes du ce...  img_train/2.jpg   \n3  Beautiful and spacious (1076 sc ft, / 100 mc) ...  img_train/3.jpg   \n4  Très grand appartement ''rustique'' et très ag...  img_train/4.jpg   \n\n        type  price  \n0  Apartment      1  \n1  Apartment      0  \n2  Apartment      1  \n3  Apartment      1  \n4  Apartment      0  ",
            "text/html": "<div>\n<style scoped>\n    .dataframe tbody tr th:only-of-type {\n        vertical-align: middle;\n    }\n\n    .dataframe tbody tr th {\n        vertical-align: top;\n    }\n\n    .dataframe thead th {\n        text-align: right;\n    }\n</style>\n<table border=\"1\" class=\"dataframe\">\n  <thead>\n    <tr style=\"text-align: right;\">\n      <th></th>\n      <th>summary</th>\n      <th>image</th>\n      <th>type</th>\n      <th>price</th>\n    </tr>\n  </thead>\n  <tbody>\n    <tr>\n      <th>0</th>\n      <td>Spacious, sunny and cozy modern apartment in t...</td>\n      <td>img_train/0.jpg</td>\n      <td>Apartment</td>\n      <td>1</td>\n    </tr>\n    <tr>\n      <th>1</th>\n      <td>Located in one of the most vibrant and accessi...</td>\n      <td>img_train/1.jpg</td>\n      <td>Apartment</td>\n      <td>0</td>\n    </tr>\n    <tr>\n      <th>2</th>\n      <td>Logement coquet et douillet à 10 minutes du ce...</td>\n      <td>img_train/2.jpg</td>\n      <td>Apartment</td>\n      <td>1</td>\n    </tr>\n    <tr>\n      <th>3</th>\n      <td>Beautiful and spacious (1076 sc ft, / 100 mc) ...</td>\n      <td>img_train/3.jpg</td>\n      <td>Apartment</td>\n      <td>1</td>\n    </tr>\n    <tr>\n      <th>4</th>\n      <td>Très grand appartement ''rustique'' et très ag...</td>\n      <td>img_train/4.jpg</td>\n      <td>Apartment</td>\n      <td>0</td>\n    </tr>\n  </tbody>\n</table>\n</div>"
          },
          "metadata": {}
        }
      ]
    },
    {
      "cell_type": "code",
      "source": [
        "#display the shape of training and data\n",
        "print(\"train shape: \", df_train.shape)"
      ],
      "metadata": {
        "execution": {
          "iopub.status.busy": "2023-04-14T01:03:14.008413Z",
          "iopub.execute_input": "2023-04-14T01:03:14.009220Z",
          "iopub.status.idle": "2023-04-14T01:03:14.016274Z",
          "shell.execute_reply.started": "2023-04-14T01:03:14.009150Z",
          "shell.execute_reply": "2023-04-14T01:03:14.015012Z"
        },
        "trusted": true,
        "id": "6ZGHN5c_TfeB",
        "outputId": "6d9aec6b-93ac-48ea-dfff-851d3382d723"
      },
      "execution_count": null,
      "outputs": [
        {
          "name": "stdout",
          "text": "train shape:  (7627, 4)\n",
          "output_type": "stream"
        }
      ]
    },
    {
      "cell_type": "code",
      "source": [
        "# some simple transformation (always make a copy before assigning)\n",
        "df2_train = df_train.copy()"
      ],
      "metadata": {
        "execution": {
          "iopub.status.busy": "2023-04-14T01:03:17.150168Z",
          "iopub.execute_input": "2023-04-14T01:03:17.150566Z",
          "iopub.status.idle": "2023-04-14T01:03:17.158875Z",
          "shell.execute_reply.started": "2023-04-14T01:03:17.150533Z",
          "shell.execute_reply": "2023-04-14T01:03:17.157858Z"
        },
        "trusted": true,
        "id": "YuHjOs8FTfeB"
      },
      "execution_count": null,
      "outputs": []
    },
    {
      "cell_type": "code",
      "source": [
        "#print number of nulls in each columns \n",
        "print(df_train.isna().sum().sort_values())"
      ],
      "metadata": {
        "execution": {
          "iopub.status.busy": "2023-04-14T01:03:18.697849Z",
          "iopub.execute_input": "2023-04-14T01:03:18.698232Z",
          "iopub.status.idle": "2023-04-14T01:03:18.708608Z",
          "shell.execute_reply.started": "2023-04-14T01:03:18.698179Z",
          "shell.execute_reply": "2023-04-14T01:03:18.707342Z"
        },
        "trusted": true,
        "id": "5zMYII56TfeB",
        "outputId": "63024dc5-5dfa-49e2-a529-25e6b40ea9a7"
      },
      "execution_count": null,
      "outputs": [
        {
          "name": "stdout",
          "text": "image        0\ntype         0\nprice        0\nsummary    301\ndtype: int64\n",
          "output_type": "stream"
        }
      ]
    },
    {
      "cell_type": "code",
      "source": [
        "#drop rows which have null values \n",
        "df_train = df_train.dropna()\n",
        "df_train.shape"
      ],
      "metadata": {
        "execution": {
          "iopub.status.busy": "2023-04-14T01:03:20.458223Z",
          "iopub.execute_input": "2023-04-14T01:03:20.459132Z",
          "iopub.status.idle": "2023-04-14T01:03:20.472748Z",
          "shell.execute_reply.started": "2023-04-14T01:03:20.459079Z",
          "shell.execute_reply": "2023-04-14T01:03:20.471471Z"
        },
        "trusted": true,
        "id": "6ZJj3y05TfeC",
        "outputId": "f35ceb97-721a-4832-a00a-ad616d3dc786"
      },
      "execution_count": null,
      "outputs": [
        {
          "execution_count": 233,
          "output_type": "execute_result",
          "data": {
            "text/plain": "(7326, 4)"
          },
          "metadata": {}
        }
      ]
    },
    {
      "cell_type": "code",
      "source": [
        "#check duplicated data but not found any duplication\n",
        "df_train.duplicated().any()"
      ],
      "metadata": {
        "execution": {
          "iopub.status.busy": "2023-04-14T01:03:21.651933Z",
          "iopub.execute_input": "2023-04-14T01:03:21.653074Z",
          "iopub.status.idle": "2023-04-14T01:03:21.674844Z",
          "shell.execute_reply.started": "2023-04-14T01:03:21.653023Z",
          "shell.execute_reply": "2023-04-14T01:03:21.673875Z"
        },
        "trusted": true,
        "id": "PFmAmP2sTfeC",
        "outputId": "b3117102-6ba6-4621-8d2c-4350b9cebc6a"
      },
      "execution_count": null,
      "outputs": [
        {
          "execution_count": 234,
          "output_type": "execute_result",
          "data": {
            "text/plain": "False"
          },
          "metadata": {}
        }
      ]
    },
    {
      "cell_type": "code",
      "source": [
        "# information about data \n",
        "df_train.info()"
      ],
      "metadata": {
        "execution": {
          "iopub.status.busy": "2023-04-14T01:03:26.378278Z",
          "iopub.execute_input": "2023-04-14T01:03:26.378649Z",
          "iopub.status.idle": "2023-04-14T01:03:26.394105Z",
          "shell.execute_reply.started": "2023-04-14T01:03:26.378614Z",
          "shell.execute_reply": "2023-04-14T01:03:26.392875Z"
        },
        "trusted": true,
        "id": "7q8y2R3GTfeC",
        "outputId": "f1bb8503-bb3f-4686-ec06-9bc4bcea39f2"
      },
      "execution_count": null,
      "outputs": [
        {
          "name": "stdout",
          "text": "<class 'pandas.core.frame.DataFrame'>\nInt64Index: 7326 entries, 0 to 7626\nData columns (total 4 columns):\n #   Column   Non-Null Count  Dtype \n---  ------   --------------  ----- \n 0   summary  7326 non-null   object\n 1   image    7326 non-null   object\n 2   type     7326 non-null   object\n 3   price    7326 non-null   int64 \ndtypes: int64(1), object(3)\nmemory usage: 286.2+ KB\n",
          "output_type": "stream"
        }
      ]
    },
    {
      "cell_type": "code",
      "source": [
        "#count values of our label (type)\n",
        "df_train['type'].value_counts()"
      ],
      "metadata": {
        "execution": {
          "iopub.status.busy": "2023-04-14T01:03:28.953670Z",
          "iopub.execute_input": "2023-04-14T01:03:28.955052Z",
          "iopub.status.idle": "2023-04-14T01:03:28.964044Z",
          "shell.execute_reply.started": "2023-04-14T01:03:28.955002Z",
          "shell.execute_reply": "2023-04-14T01:03:28.962959Z"
        },
        "trusted": true,
        "id": "y01xlUIQTfeC",
        "outputId": "afe2400a-bb8d-42d1-99e9-f8175615a8f7"
      },
      "execution_count": null,
      "outputs": [
        {
          "execution_count": 236,
          "output_type": "execute_result",
          "data": {
            "text/plain": "Apartment                 5557\nCondominium                659\nHouse                      380\nLoft                       307\nTownhouse                  164\nServiced apartment          73\nGuest suite                 32\nBed and breakfast           31\nHostel                      26\nBungalow                    23\nGuesthouse                  14\nCottage                     12\nAparthotel                  12\nBoutique hotel              10\nOther                        8\nVilla                        5\nTiny house                   3\nBoat                         2\nCabin                        2\nCamper/RV                    2\nCasa particular (Cuba)       1\nHotel                        1\nEarth house                  1\nCastle                       1\nName: type, dtype: int64"
          },
          "metadata": {}
        }
      ]
    },
    {
      "cell_type": "code",
      "source": [
        "#count values of our label (price)\n",
        "df_train['price'].value_counts()"
      ],
      "metadata": {
        "execution": {
          "iopub.status.busy": "2023-04-14T01:03:35.523109Z",
          "iopub.execute_input": "2023-04-14T01:03:35.524162Z",
          "iopub.status.idle": "2023-04-14T01:03:35.532315Z",
          "shell.execute_reply.started": "2023-04-14T01:03:35.524126Z",
          "shell.execute_reply": "2023-04-14T01:03:35.531125Z"
        },
        "trusted": true,
        "id": "JpkD2-z1TfeD",
        "outputId": "3a149015-dfdf-4f2c-9913-36492e76b9e4"
      },
      "execution_count": null,
      "outputs": [
        {
          "execution_count": 237,
          "output_type": "execute_result",
          "data": {
            "text/plain": "0    4546\n1    2312\n2     468\nName: price, dtype: int64"
          },
          "metadata": {}
        }
      ]
    },
    {
      "cell_type": "code",
      "source": [
        "#show lobel price\n",
        "plt.hist(df_train['price'])\n",
        "plt.show()"
      ],
      "metadata": {
        "execution": {
          "iopub.status.busy": "2023-04-14T01:03:38.650680Z",
          "iopub.execute_input": "2023-04-14T01:03:38.651049Z",
          "iopub.status.idle": "2023-04-14T01:03:38.850938Z",
          "shell.execute_reply.started": "2023-04-14T01:03:38.651015Z",
          "shell.execute_reply": "2023-04-14T01:03:38.849988Z"
        },
        "trusted": true,
        "id": "Q0R5ZZBrTfeD",
        "outputId": "97af0f63-d825-45fd-8fd0-3378c4ca0341"
      },
      "execution_count": null,
      "outputs": [
        {
          "output_type": "display_data",
          "data": {
            "text/plain": "<Figure size 640x480 with 1 Axes>",
            "image/png": "[encoded data removed]"
          },
          "metadata": {}
        }
      ]
    },
    {
      "cell_type": "code",
      "source": [
        "#create function to load image from source ,resize and convert it to same size and color \n",
        "import os \n",
        "from PIL import Image\n",
        "def load_image(file):\n",
        "    try:\n",
        "        image = Image.open(file).convert('LA').resize((64, 64))#Represents L with Alpha transparency channel#resize((64, 64))\n",
        "        arr = np.array(image)\n",
        "    except:\n",
        "        arr = np.zeros((64, 64,2))\n",
        "    return arr"
      ],
      "metadata": {
        "execution": {
          "iopub.status.busy": "2023-04-14T01:03:46.531324Z",
          "iopub.execute_input": "2023-04-14T01:03:46.532356Z",
          "iopub.status.idle": "2023-04-14T01:03:46.538452Z",
          "shell.execute_reply.started": "2023-04-14T01:03:46.532317Z",
          "shell.execute_reply": "2023-04-14T01:03:46.537350Z"
        },
        "trusted": true,
        "id": "CVl9wmBHTfeD"
      },
      "execution_count": null,
      "outputs": []
    },
    {
      "cell_type": "code",
      "source": [
        "# loading train images:\n",
        "df_train_image=np.array([load_image('/kaggle/input/copy-of-cisc-873-dm-w23-a4/a4/'+str(i)) for i in tqdm(df_train[\"image\"])])\n",
        "\n",
        "# loading summary: (force convert some of the non-string cell to string)\n",
        "df_train_text = df_train['summary'].astype('str')"
      ],
      "metadata": {
        "execution": {
          "iopub.status.busy": "2023-04-14T01:03:51.504081Z",
          "iopub.execute_input": "2023-04-14T01:03:51.504775Z",
          "iopub.status.idle": "2023-04-14T01:05:20.450474Z",
          "shell.execute_reply.started": "2023-04-14T01:03:51.504736Z",
          "shell.execute_reply": "2023-04-14T01:05:20.449425Z"
        },
        "trusted": true,
        "colab": {
          "referenced_widgets": [
            "82d7b0be9f614e75b37b8db08453988e"
          ]
        },
        "id": "aSRUHxypTfeD",
        "outputId": "32655098-af36-4759-c3b6-436251815816"
      },
      "execution_count": null,
      "outputs": [
        {
          "output_type": "display_data",
          "data": {
            "text/plain": "  0%|          | 0/7326 [00:00<?, ?it/s]",
            "application/vnd.jupyter.widget-view+json": {
              "version_major": 2,
              "version_minor": 0,
              "model_id": "82d7b0be9f614e75b37b8db08453988e"
            }
          },
          "metadata": {}
        }
      ]
    },
    {
      "cell_type": "code",
      "source": [
        "# checking load_image function and display some of the train images and their types\n",
        "plt.figure(figsize=(25,20))\n",
        "for n , i in enumerate(list(np.random.randint(0,len(df_train_image),10))) : \n",
        "    plt.subplot(3,5,n+1)\n",
        "    plt.imshow(df_train_image[i, :, :,0])   \n",
        "    plt.axis('off')\n",
        "    plt.title((df_train['type'][i]))"
      ],
      "metadata": {
        "execution": {
          "iopub.status.busy": "2023-04-14T01:05:25.749050Z",
          "iopub.execute_input": "2023-04-14T01:05:25.749751Z",
          "iopub.status.idle": "2023-04-14T01:05:26.353097Z",
          "shell.execute_reply.started": "2023-04-14T01:05:25.749712Z",
          "shell.execute_reply": "2023-04-14T01:05:26.352111Z"
        },
        "trusted": true,
        "id": "u5seeyDcTfeD",
        "outputId": "aa166589-db44-4e7d-be5b-96a13a503c32"
      },
      "execution_count": null,
      "outputs": [
        {
          "output_type": "display_data",
          "data": {
            "text/plain": "<Figure size 2500x2000 with 10 Axes>",
            "image/png": "[encoded data removed]"
          },
          "metadata": {}
        }
      ]
    },
    {
      "cell_type": "code",
      "source": [
        "#encode the the labels(price and type)\n",
        "df_train['type'] = df_train['type'].astype('category').cat.codes\n",
        "df_train['price'] = df_train['price'].astype('category').cat.codes\n",
        "len_type = len(df_train['type'].unique())\n",
        "len_price = len(df_train.price.unique())\n",
        "\n",
        "# assign label price \n",
        "y_train_price = df_train['price']\n",
        "\n",
        "# assign label type\n",
        "y_train_type = df_train['type']"
      ],
      "metadata": {
        "execution": {
          "iopub.status.busy": "2023-04-13T18:07:35.652640Z",
          "iopub.execute_input": "2023-04-13T18:07:35.653009Z",
          "iopub.status.idle": "2023-04-13T18:07:35.665607Z",
          "shell.execute_reply.started": "2023-04-13T18:07:35.652974Z",
          "shell.execute_reply": "2023-04-13T18:07:35.664611Z"
        },
        "trusted": true,
        "id": "NAAbOZwfTfeE"
      },
      "execution_count": null,
      "outputs": []
    },
    {
      "cell_type": "code",
      "source": [
        "# show the dataframe after encoding the type and the price\n",
        "df_train.head()"
      ],
      "metadata": {
        "execution": {
          "iopub.status.busy": "2023-04-13T18:07:39.813708Z",
          "iopub.execute_input": "2023-04-13T18:07:39.814080Z",
          "iopub.status.idle": "2023-04-13T18:07:39.825400Z",
          "shell.execute_reply.started": "2023-04-13T18:07:39.814046Z",
          "shell.execute_reply": "2023-04-13T18:07:39.824348Z"
        },
        "trusted": true,
        "id": "28unZlX1TfeE",
        "outputId": "1df52a79-8e26-4ea1-b9ec-7161513e7683"
      },
      "execution_count": null,
      "outputs": [
        {
          "execution_count": 21,
          "output_type": "execute_result",
          "data": {
            "text/plain": "                                             summary            image  type  \\\n0  Spacious, sunny and cozy modern apartment in t...  img_train/0.jpg     1   \n1  Located in one of the most vibrant and accessi...  img_train/1.jpg     1   \n2  Logement coquet et douillet à 10 minutes du ce...  img_train/2.jpg     1   \n3  Beautiful and spacious (1076 sc ft, / 100 mc) ...  img_train/3.jpg     1   \n4  Très grand appartement ''rustique'' et très ag...  img_train/4.jpg     1   \n\n   price  \n0      1  \n1      0  \n2      1  \n3      1  \n4      0  ",
            "text/html": "<div>\n<style scoped>\n    .dataframe tbody tr th:only-of-type {\n        vertical-align: middle;\n    }\n\n    .dataframe tbody tr th {\n        vertical-align: top;\n    }\n\n    .dataframe thead th {\n        text-align: right;\n    }\n</style>\n<table border=\"1\" class=\"dataframe\">\n  <thead>\n    <tr style=\"text-align: right;\">\n      <th></th>\n      <th>summary</th>\n      <th>image</th>\n      <th>type</th>\n      <th>price</th>\n    </tr>\n  </thead>\n  <tbody>\n    <tr>\n      <th>0</th>\n      <td>Spacious, sunny and cozy modern apartment in t...</td>\n      <td>img_train/0.jpg</td>\n      <td>1</td>\n      <td>1</td>\n    </tr>\n    <tr>\n      <th>1</th>\n      <td>Located in one of the most vibrant and accessi...</td>\n      <td>img_train/1.jpg</td>\n      <td>1</td>\n      <td>0</td>\n    </tr>\n    <tr>\n      <th>2</th>\n      <td>Logement coquet et douillet à 10 minutes du ce...</td>\n      <td>img_train/2.jpg</td>\n      <td>1</td>\n      <td>1</td>\n    </tr>\n    <tr>\n      <th>3</th>\n      <td>Beautiful and spacious (1076 sc ft, / 100 mc) ...</td>\n      <td>img_train/3.jpg</td>\n      <td>1</td>\n      <td>1</td>\n    </tr>\n    <tr>\n      <th>4</th>\n      <td>Très grand appartement ''rustique'' et très ag...</td>\n      <td>img_train/4.jpg</td>\n      <td>1</td>\n      <td>0</td>\n    </tr>\n  </tbody>\n</table>\n</div>"
          },
          "metadata": {}
        }
      ]
    },
    {
      "cell_type": "code",
      "source": [
        "#it is obvious that summary column has other languages than english \n",
        "df_train_text"
      ],
      "metadata": {
        "execution": {
          "iopub.status.busy": "2023-04-13T18:07:43.327861Z",
          "iopub.execute_input": "2023-04-13T18:07:43.328599Z",
          "iopub.status.idle": "2023-04-13T18:07:43.337596Z",
          "shell.execute_reply.started": "2023-04-13T18:07:43.328557Z",
          "shell.execute_reply": "2023-04-13T18:07:43.336328Z"
        },
        "trusted": true,
        "id": "N2Ts4grATfeE",
        "outputId": "6813ec45-4709-4356-a844-88bf4e2f528f"
      },
      "execution_count": null,
      "outputs": [
        {
          "execution_count": 22,
          "output_type": "execute_result",
          "data": {
            "text/plain": "0       Spacious, sunny and cozy modern apartment in t...\n1       Located in one of the most vibrant and accessi...\n2       Logement coquet et douillet à 10 minutes du ce...\n3       Beautiful and spacious (1076 sc ft, / 100 mc) ...\n4       Très grand appartement ''rustique'' et très ag...\n                              ...                        \n7622    Un grand logement 4 et 1/2, tout inclut, bien ...\n7623    Magnificent condo directly on the river. You w...\n7624    This apartment is perfect for anyone visiting ...\n7625    It is a cozy ,clean ,and comfortable apartment...\n7626    Modern country style (newly-renovated); open c...\nName: summary, Length: 7326, dtype: object"
          },
          "metadata": {}
        }
      ]
    },
    {
      "cell_type": "code",
      "source": [
        "from textblob import TextBlob\n",
        "from langdetect import detect\n",
        "\n",
        "#define a function to translate the text\n",
        "def translate(line):\n",
        "    try:\n",
        "        from_lang = detect(line)\n",
        "        if from_lang != 'en':\n",
        "            sentence = TextBlob(line).translate(from_lang=from_lang, to='en')\n",
        "            return sentence\n",
        "        else:\n",
        "            return line\n",
        "    except:\n",
        "        return line\n",
        "\n",
        "df_train['summary'] = df_train['summary'].astype('str')\n",
        "\n",
        "#apply translate function on the text of the train\n",
        "df_train_text = df_train['summary'].apply(translate)"
      ],
      "metadata": {
        "execution": {
          "iopub.status.busy": "2023-04-13T18:07:49.950241Z",
          "iopub.execute_input": "2023-04-13T18:07:49.950905Z",
          "iopub.status.idle": "2023-04-13T18:31:30.327303Z",
          "shell.execute_reply.started": "2023-04-13T18:07:49.950867Z",
          "shell.execute_reply": "2023-04-13T18:31:30.326241Z"
        },
        "trusted": true,
        "id": "yqf6f0ESTfeE"
      },
      "execution_count": null,
      "outputs": []
    },
    {
      "cell_type": "code",
      "source": [
        "#print summary column after translation from other languages into english\n",
        "df_train_text"
      ],
      "metadata": {
        "execution": {
          "iopub.status.busy": "2023-04-13T18:32:12.689431Z",
          "iopub.execute_input": "2023-04-13T18:32:12.690097Z",
          "iopub.status.idle": "2023-04-13T18:32:12.703808Z",
          "shell.execute_reply.started": "2023-04-13T18:32:12.690058Z",
          "shell.execute_reply": "2023-04-13T18:32:12.702784Z"
        },
        "trusted": true,
        "id": "oBAQfHaiTfeE",
        "outputId": "baa46423-3f36-40ab-f4bd-0a1e39e8ef06"
      },
      "execution_count": null,
      "outputs": [
        {
          "execution_count": 24,
          "output_type": "execute_result",
          "data": {
            "text/plain": "0       Spacious, sunny and cozy modern apartment in t...\n1       Located in one of the most vibrant and accessi...\n2       (C, o, q, u, e, t,  , a, n, d,  , c, o, z, y, ...\n3       Beautiful and spacious (1076 sc ft, / 100 mc) ...\n4       (V, e, r, y,  , l, a, r, g, e,  , ', ',  , r, ...\n                              ...                        \n7622    (A,  , l, a, r, g, e,  , a, c, c, o, m, m, o, ...\n7623    Magnificent condo directly on the river. You w...\n7624    This apartment is perfect for anyone visiting ...\n7625    It is a cozy ,clean ,and comfortable apartment...\n7626    Modern country style (newly-renovated); open c...\nName: summary, Length: 7326, dtype: object"
          },
          "metadata": {}
        }
      ]
    },
    {
      "cell_type": "code",
      "source": [
        "# call stemmer and stop wrods\n",
        "stemmer = SnowballStemmer(language='english')\n",
        "stop_words = set(stopwords.words(\"english\"))"
      ],
      "metadata": {
        "execution": {
          "iopub.status.busy": "2023-04-13T18:46:53.263057Z",
          "iopub.execute_input": "2023-04-13T18:46:53.263726Z",
          "iopub.status.idle": "2023-04-13T18:46:53.270970Z",
          "shell.execute_reply.started": "2023-04-13T18:46:53.263689Z",
          "shell.execute_reply": "2023-04-13T18:46:53.269930Z"
        },
        "trusted": true,
        "id": "ZEZqcusYTfeE"
      },
      "execution_count": null,
      "outputs": []
    },
    {
      "cell_type": "code",
      "source": [
        "#define a function to clean the tex\n",
        "def text_clean(text,for_embedding=True):#I will apply embedding \n",
        "    RE_WSPACE = re.compile(r\"\\s+\", re.IGNORECASE)\n",
        "    RE_TAGS = re.compile(r\"<[^>]+>\")\n",
        "    RE_ASCII = re.compile(r\"[^A-Za-zÀ-ž ]\", re.IGNORECASE)\n",
        "    RE_SINGLECHAR = re.compile(r\"\\b[A-Za-zÀ-ž]\\b\", re.IGNORECASE)    \n",
        "    text = text.lower()\n",
        "    if for_embedding:\n",
        "        # Keep punctuation\n",
        "        RE_ASCII = re.compile(r\"[^A-Za-zÀ-ž,.!? ]\", re.IGNORECASE)\n",
        "        RE_SINGLECHAR = re.compile(r\"\\b[A-Za-zÀ-ž,.!?]\\b\", re.IGNORECASE)\n",
        "\n",
        "    text = re.sub(RE_TAGS, \" \", text)\n",
        "    text = re.sub(RE_ASCII, \" \", text)\n",
        "    text = re.sub(RE_SINGLECHAR, \" \", text)\n",
        "    text = re.sub(RE_WSPACE, \" \", text)\n",
        "\n",
        "    word_tokens = word_tokenize(text)\n",
        "    words_tokens_lower = [word.lower() for word in word_tokens]\n",
        "\n",
        "    if for_embedding:\n",
        "        # no stemming, lowering and punctuation / stop words removal\n",
        "        words_filtered = word_tokens\n",
        "    else:#apply stemmer\n",
        "        words_filtered = [\n",
        "            stemmer.stem(word) for word in words_tokens_lower if word not in stop_words\n",
        "        ]\n",
        "\n",
        "    text_clean = \" \".join(words_filtered)\n",
        "    return text_clean"
      ],
      "metadata": {
        "execution": {
          "iopub.status.busy": "2023-04-13T18:47:24.609714Z",
          "iopub.execute_input": "2023-04-13T18:47:24.610088Z",
          "iopub.status.idle": "2023-04-13T18:47:24.619078Z",
          "shell.execute_reply.started": "2023-04-13T18:47:24.610052Z",
          "shell.execute_reply": "2023-04-13T18:47:24.618014Z"
        },
        "trusted": true,
        "id": "0Ijyv26UTfeF"
      },
      "execution_count": null,
      "outputs": []
    },
    {
      "cell_type": "code",
      "source": [
        "#apply clean function on text of the train\n",
        "df_train_text = df_train_text.astype('str').apply(text_clean)"
      ],
      "metadata": {
        "execution": {
          "iopub.status.busy": "2023-04-13T19:10:38.218970Z",
          "iopub.execute_input": "2023-04-13T19:10:38.219367Z",
          "iopub.status.idle": "2023-04-13T19:10:42.741590Z",
          "shell.execute_reply.started": "2023-04-13T19:10:38.219331Z",
          "shell.execute_reply": "2023-04-13T19:10:42.740571Z"
        },
        "trusted": true,
        "id": "L2OkHtb6TfeF"
      },
      "execution_count": null,
      "outputs": []
    },
    {
      "cell_type": "code",
      "source": [
        "#show data after cleaning\n",
        "df_train_text"
      ],
      "metadata": {
        "execution": {
          "iopub.status.busy": "2023-04-13T19:11:15.023017Z",
          "iopub.execute_input": "2023-04-13T19:11:15.023393Z",
          "iopub.status.idle": "2023-04-13T19:11:15.031869Z",
          "shell.execute_reply.started": "2023-04-13T19:11:15.023359Z",
          "shell.execute_reply": "2023-04-13T19:11:15.030770Z"
        },
        "trusted": true,
        "id": "QReAzlBhTfeF",
        "outputId": "56edecd2-1411-47ef-9405-32988e13b311"
      },
      "execution_count": null,
      "outputs": [
        {
          "execution_count": 51,
          "output_type": "execute_result",
          "data": {
            "text/plain": "0       spacious , sunny and cozy modern apartment in ...\n1       located in one of the most vibrant and accessi...\n2       coquet and cozy accommodation minutes from dow...\n3       beautiful and spacious sc ft , mc condo on the...\n4       very large rustic and very pleasant apartment ...\n                              ...                        \n7622    large accommodation and , everything includes ...\n7623    magnificent condo directly on the river . you ...\n7624    this apartment is perfect for anyone visiting ...\n7625    it is cozy , clean , and comfortable apartment...\n7626    modern country style newly renovated open conc...\nName: summary, Length: 7326, dtype: object"
          },
          "metadata": {}
        }
      ]
    },
    {
      "cell_type": "code",
      "source": [
        "# preprocess text data\n",
        "\n",
        "vocab_size = 600000\n",
        "max_len = 100\n",
        "\n",
        "# build vocabulary from training set\n",
        "tokenizer = Tokenizer(num_words=vocab_size)\n",
        "print(tokenizer )\n",
        "tokenizer.fit_on_texts(df_train_text)\n",
        "\n",
        "\n",
        "def _preprocess(list_of_text):\n",
        "    return pad_sequences(\n",
        "        #Transforms each text in texts to a sequence of integers.\n",
        "        tokenizer.texts_to_sequences(list_of_text),\n",
        "        maxlen=max_len,\n",
        "        padding='post', #using padding in the end of the vector \n",
        "    )\n",
        "\n",
        "# padding is done inside: \n",
        "df_train_text_id = _preprocess(df_train_text)\n",
        "\n",
        "print(df_train_text_id.shape)"
      ],
      "metadata": {
        "execution": {
          "iopub.status.busy": "2023-04-13T19:22:38.977069Z",
          "iopub.execute_input": "2023-04-13T19:22:38.977762Z",
          "iopub.status.idle": "2023-04-13T19:22:39.622270Z",
          "shell.execute_reply.started": "2023-04-13T19:22:38.977723Z",
          "shell.execute_reply": "2023-04-13T19:22:39.621169Z"
        },
        "trusted": true,
        "id": "CypG12ikTfeF",
        "outputId": "5d5f1616-3830-4ac4-ec26-22288a8d70ec"
      },
      "execution_count": null,
      "outputs": [
        {
          "name": "stdout",
          "text": "<keras.preprocessing.text.Tokenizer object at 0x7e8047102d50>\n(7326, 100)\n",
          "output_type": "stream"
        }
      ]
    },
    {
      "cell_type": "code",
      "source": [
        "# we can use the tokenizer to convert IDs to words.\n",
        "print(tokenizer.sequences_to_texts(df_train_text_id[:2]))"
      ],
      "metadata": {
        "execution": {
          "iopub.status.busy": "2023-04-13T19:36:57.064351Z",
          "iopub.execute_input": "2023-04-13T19:36:57.065129Z",
          "iopub.status.idle": "2023-04-13T19:36:57.071756Z",
          "shell.execute_reply.started": "2023-04-13T19:36:57.065092Z",
          "shell.execute_reply": "2023-04-13T19:36:57.070612Z"
        },
        "trusted": true,
        "id": "W7r5e8KETfeF",
        "outputId": "f4c1e522-af77-4382-deb0-f1d92b8b852e"
      },
      "execution_count": null,
      "outputs": [
        {
          "name": "stdout",
          "text": "['spacious sunny and cozy modern apartment in the heart of montreal this bedroom centrally located in the very popular plateau mont royal neighborhood in the middle of prince arthur pedestrian only street close to all amenities restaurants coffee house bars clubs shopping universities subway stations experience montreal like real local resident be in the heart of the action grand prix week grill saint laurent festival mural and so much more', 'located in one of the most vibrant and accessible locations of downtown montreal this one bedroom condo will not only impress you but leave you with one of the most memorable experiences it is walking distance of the popular sainte catherine street the bell center the old port lachine canal bonaventure metro and much much more']\n",
          "output_type": "stream"
        }
      ]
    },
    {
      "cell_type": "code",
      "source": [
        "#print the number of words in the dictionary \n",
        "print('total words in the dictionary:', tokenizer.num_words)"
      ],
      "metadata": {
        "execution": {
          "iopub.status.busy": "2023-04-13T19:37:33.885212Z",
          "iopub.execute_input": "2023-04-13T19:37:33.885885Z",
          "iopub.status.idle": "2023-04-13T19:37:33.891010Z",
          "shell.execute_reply.started": "2023-04-13T19:37:33.885848Z",
          "shell.execute_reply": "2023-04-13T19:37:33.889982Z"
        },
        "trusted": true,
        "id": "nmV0_29JTfeG",
        "outputId": "c01627d8-f979-4b9d-9321-be102ca417c4"
      },
      "execution_count": null,
      "outputs": [
        {
          "name": "stdout",
          "text": "total words in the dictionary: 600000\n",
          "output_type": "stream"
        }
      ]
    },
    {
      "cell_type": "markdown",
      "source": [
        "#first_trial"
      ],
      "metadata": {
        "id": "NITd_P2MeB6e"
      }
    },
    {
      "cell_type": "code",
      "source": [
        "# here we have two inputs. one for image and the other for text.\n",
        "in_text = keras.Input(batch_shape=(None, max_len))\n",
        "in_image = keras.Input(batch_shape=(None, 64, 64, 2))\n",
        "\n",
        "# text part\n",
        "embedded = keras.layers.Embedding(tokenizer.num_words, 100)(in_text)\n",
        "averaged = tf.reduce_mean(embedded, axis=1)\n",
        "\n",
        "\n",
        "# image part \n",
        "cov1 = Conv2D(32, (16,16) , activation='relu')(in_image) \n",
        "con_drop = Dropout(0.2)(cov1) \n",
        "pl = MaxPool2D((10, 10))(con_drop)\n",
        "flattened = Flatten()(pl) \n",
        "\n",
        "#merge between two input\n",
        "fused = tf.concat([averaged, flattened], axis=-1) \n",
        "\n",
        "# one dense layer for each task\n",
        "p_type = Dense(len_type, activation='softmax', name='type')(fused)\n",
        "p_price = Dense(len_price, activation='softmax', name='price')(fused)\n",
        "\n",
        "\n",
        "# define model input/output using keys.\n",
        "model_1 = keras.Model(\n",
        "    inputs={\n",
        "        'summary': in_text,\n",
        "        'image': in_image\n",
        "    },\n",
        "    outputs={\n",
        "        'type': p_type,\n",
        "        'price': p_price,\n",
        "    },\n",
        ")"
      ],
      "metadata": {
        "execution": {
          "iopub.status.busy": "2023-04-13T19:57:03.596328Z",
          "iopub.execute_input": "2023-04-13T19:57:03.596904Z",
          "iopub.status.idle": "2023-04-13T19:57:03.676122Z",
          "shell.execute_reply.started": "2023-04-13T19:57:03.596867Z",
          "shell.execute_reply": "2023-04-13T19:57:03.675046Z"
        },
        "trusted": true,
        "id": "8YmLVhEUTfeG"
      },
      "execution_count": null,
      "outputs": []
    },
    {
      "cell_type": "code",
      "source": [
        "model_1.summary()"
      ],
      "metadata": {
        "execution": {
          "iopub.status.busy": "2023-04-13T19:57:06.792859Z",
          "iopub.execute_input": "2023-04-13T19:57:06.793302Z",
          "iopub.status.idle": "2023-04-13T19:57:06.827499Z",
          "shell.execute_reply.started": "2023-04-13T19:57:06.793259Z",
          "shell.execute_reply": "2023-04-13T19:57:06.826619Z"
        },
        "trusted": true,
        "id": "ye2ls_hMTfeG",
        "outputId": "33dd708f-149e-46ba-ea5f-bca5130d9e65"
      },
      "execution_count": null,
      "outputs": [
        {
          "name": "stdout",
          "text": "Model: \"model\"\n__________________________________________________________________________________________________\n Layer (type)                   Output Shape         Param #     Connected to                     \n==================================================================================================\n input_4 (InputLayer)           [(None, 64, 64, 2)]  0           []                               \n                                                                                                  \n conv2d_1 (Conv2D)              (None, 49, 49, 32)   16416       ['input_4[0][0]']                \n                                                                                                  \n input_3 (InputLayer)           [(None, 100)]        0           []                               \n                                                                                                  \n dropout (Dropout)              (None, 49, 49, 32)   0           ['conv2d_1[0][0]']               \n                                                                                                  \n embedding_1 (Embedding)        (None, 100, 100)     60000000    ['input_3[0][0]']                \n                                                                                                  \n max_pooling2d (MaxPooling2D)   (None, 4, 4, 32)     0           ['dropout[0][0]']                \n                                                                                                  \n tf.math.reduce_mean_1 (TFOpLam  (None, 100)         0           ['embedding_1[0][0]']            \n bda)                                                                                             \n                                                                                                  \n flatten (Flatten)              (None, 512)          0           ['max_pooling2d[0][0]']          \n                                                                                                  \n tf.concat (TFOpLambda)         (None, 612)          0           ['tf.math.reduce_mean_1[0][0]',  \n                                                                  'flatten[0][0]']                \n                                                                                                  \n price (Dense)                  (None, 3)            1839        ['tf.concat[0][0]']              \n                                                                                                  \n type (Dense)                   (None, 24)           14712       ['tf.concat[0][0]']              \n                                                                                                  \n==================================================================================================\nTotal params: 60,032,967\nTrainable params: 60,032,967\nNon-trainable params: 0\n__________________________________________________________________________________________________\n",
          "output_type": "stream"
        }
      ]
    },
    {
      "cell_type": "code",
      "source": [
        "# compile model with optimizer\n",
        "model_1.compile(\n",
        "    optimizer=Adam(),\n",
        "    loss={\n",
        "        'type': 'sparse_categorical_crossentropy',\n",
        "        'price': 'sparse_categorical_crossentropy',\n",
        "    },\n",
        "    loss_weights={\n",
        "        'type': 0.5, \n",
        "        'price': 0.5,       \n",
        "    },\n",
        "    metrics={\n",
        "        'type': ['SparseCategoricalAccuracy'],\n",
        "        'price': ['SparseCategoricalAccuracy'],\n",
        "    },\n",
        ")"
      ],
      "metadata": {
        "execution": {
          "iopub.status.busy": "2023-04-13T19:57:11.007503Z",
          "iopub.execute_input": "2023-04-13T19:57:11.007885Z",
          "iopub.status.idle": "2023-04-13T19:57:11.029599Z",
          "shell.execute_reply.started": "2023-04-13T19:57:11.007849Z",
          "shell.execute_reply": "2023-04-13T19:57:11.028453Z"
        },
        "trusted": true,
        "id": "ScEWKlwuTfeG"
      },
      "execution_count": null,
      "outputs": []
    },
    {
      "cell_type": "code",
      "source": [
        "#train the model on the training data\n",
        "history = model_1.fit(\n",
        "    x={\n",
        "        'summary': df_train_text_id,\n",
        "        'image': df_train_image\n",
        "    },\n",
        "    y={\n",
        "        'type': y_train_type,\n",
        "        'price': y_train_price,\n",
        "    },\n",
        "    epochs=10,\n",
        "    batch_size=16,\n",
        "    validation_split=0.2,\n",
        "    callbacks=[\n",
        "        tf.keras.callbacks.EarlyStopping(monitor='val_price_loss', patience=6, )\n",
        "    ],\n",
        "    verbose=1\n",
        ")"
      ],
      "metadata": {
        "execution": {
          "iopub.status.busy": "2023-04-13T19:59:00.336907Z",
          "iopub.execute_input": "2023-04-13T19:59:00.337300Z",
          "iopub.status.idle": "2023-04-13T20:00:29.765331Z",
          "shell.execute_reply.started": "2023-04-13T19:59:00.337265Z",
          "shell.execute_reply": "2023-04-13T20:00:29.764240Z"
        },
        "trusted": true,
        "id": "D08BxGrRTfeG",
        "outputId": "39cfe8e3-36fa-4ead-e31a-0bdf2935ecdb"
      },
      "execution_count": null,
      "outputs": [
        {
          "name": "stdout",
          "text": "Epoch 1/10\n",
          "output_type": "stream"
        },
        {
          "name": "stderr",
          "text": "2023-04-13 19:59:01.862934: E tensorflow/core/grappler/optimizers/meta_optimizer.cc:954] layout failed: INVALID_ARGUMENT: Size of values 0 does not match size of permutation 4 @ fanin shape inmodel/dropout/dropout/SelectV2-2-TransposeNHWCToNCHW-LayoutOptimizer\n",
          "output_type": "stream"
        },
        {
          "name": "stdout",
          "text": "367/367 [==============================] - 36s 77ms/step - loss: 4.2252 - price_loss: 3.4351 - type_loss: 9.1027 - price_sparse_categorical_accuracy: 0.5939 - type_sparse_categorical_accuracy: 0.7048 - val_loss: 0.7614 - val_price_loss: 0.8119 - val_type_loss: 0.9656 - val_price_sparse_categorical_accuracy: 0.6241 - val_type_sparse_categorical_accuracy: 0.7688\nEpoch 2/10\n367/367 [==============================] - 10s 26ms/step - loss: 0.7610 - price_loss: 0.8045 - type_loss: 0.9893 - price_sparse_categorical_accuracy: 0.6224 - type_sparse_categorical_accuracy: 0.7560 - val_loss: 0.7345 - val_price_loss: 0.7810 - val_type_loss: 0.9391 - val_price_sparse_categorical_accuracy: 0.6323 - val_type_sparse_categorical_accuracy: 0.7688\nEpoch 3/10\n367/367 [==============================] - 6s 16ms/step - loss: 0.7237 - price_loss: 0.7582 - type_loss: 0.9648 - price_sparse_categorical_accuracy: 0.6428 - type_sparse_categorical_accuracy: 0.7560 - val_loss: 0.7063 - val_price_loss: 0.7455 - val_type_loss: 0.9226 - val_price_sparse_categorical_accuracy: 0.6685 - val_type_sparse_categorical_accuracy: 0.7688\nEpoch 4/10\n367/367 [==============================] - 5s 15ms/step - loss: 0.6863 - price_loss: 0.7108 - type_loss: 0.9438 - price_sparse_categorical_accuracy: 0.6788 - type_sparse_categorical_accuracy: 0.7560 - val_loss: 0.6826 - val_price_loss: 0.7158 - val_type_loss: 0.9081 - val_price_sparse_categorical_accuracy: 0.6746 - val_type_sparse_categorical_accuracy: 0.7688\nEpoch 5/10\n367/367 [==============================] - 5s 14ms/step - loss: 0.6564 - price_loss: 0.6730 - type_loss: 0.9265 - price_sparse_categorical_accuracy: 0.7019 - type_sparse_categorical_accuracy: 0.7560 - val_loss: 0.6701 - val_price_loss: 0.7011 - val_type_loss: 0.8968 - val_price_sparse_categorical_accuracy: 0.6910 - val_type_sparse_categorical_accuracy: 0.7688\nEpoch 6/10\n367/367 [==============================] - 6s 16ms/step - loss: 0.6307 - price_loss: 0.6410 - type_loss: 0.9099 - price_sparse_categorical_accuracy: 0.7220 - type_sparse_categorical_accuracy: 0.7561 - val_loss: 0.6625 - val_price_loss: 0.6932 - val_type_loss: 0.8863 - val_price_sparse_categorical_accuracy: 0.6937 - val_type_sparse_categorical_accuracy: 0.7688\nEpoch 7/10\n367/367 [==============================] - 6s 16ms/step - loss: 0.6077 - price_loss: 0.6131 - type_loss: 0.8927 - price_sparse_categorical_accuracy: 0.7401 - type_sparse_categorical_accuracy: 0.7568 - val_loss: 0.6605 - val_price_loss: 0.6921 - val_type_loss: 0.8801 - val_price_sparse_categorical_accuracy: 0.6876 - val_type_sparse_categorical_accuracy: 0.7688\nEpoch 8/10\n367/367 [==============================] - 5s 14ms/step - loss: 0.5865 - price_loss: 0.5875 - type_loss: 0.8763 - price_sparse_categorical_accuracy: 0.7548 - type_sparse_categorical_accuracy: 0.7577 - val_loss: 0.6556 - val_price_loss: 0.6889 - val_type_loss: 0.8667 - val_price_sparse_categorical_accuracy: 0.6937 - val_type_sparse_categorical_accuracy: 0.7708\nEpoch 9/10\n367/367 [==============================] - 5s 14ms/step - loss: 0.5653 - price_loss: 0.5625 - type_loss: 0.8581 - price_sparse_categorical_accuracy: 0.7691 - type_sparse_categorical_accuracy: 0.7584 - val_loss: 0.6573 - val_price_loss: 0.6944 - val_type_loss: 0.8564 - val_price_sparse_categorical_accuracy: 0.6971 - val_type_sparse_categorical_accuracy: 0.7722\nEpoch 10/10\n367/367 [==============================] - 5s 13ms/step - loss: 0.5458 - price_loss: 0.5398 - type_loss: 0.8396 - price_sparse_categorical_accuracy: 0.7785 - type_sparse_categorical_accuracy: 0.7590 - val_loss: 0.6547 - val_price_loss: 0.6928 - val_type_loss: 0.8487 - val_price_sparse_categorical_accuracy: 0.6862 - val_type_sparse_categorical_accuracy: 0.7715\n",
          "output_type": "stream"
        }
      ]
    },
    {
      "cell_type": "code",
      "source": [
        "df_test= pd.read_csv('/kaggle/input/copy-of-cisc-873-dm-w23-a4/a4/test_x.csv')\n",
        "df_test.head()"
      ],
      "metadata": {
        "execution": {
          "iopub.status.busy": "2023-04-13T22:19:16.130300Z",
          "iopub.execute_input": "2023-04-13T22:19:16.131007Z",
          "iopub.status.idle": "2023-04-13T22:19:16.176495Z",
          "shell.execute_reply.started": "2023-04-13T22:19:16.130970Z",
          "shell.execute_reply": "2023-04-13T22:19:16.175334Z"
        },
        "trusted": true,
        "id": "rwKKo4nVTfeH",
        "outputId": "2efa65f9-4f22-476c-ddf0-0f0d8dc9c624"
      },
      "execution_count": null,
      "outputs": [
        {
          "execution_count": 133,
          "output_type": "execute_result",
          "data": {
            "text/plain": "   id                                            summary           image\n0   0  Charming warm house is ready to host you here ...  img_test/0.jpg\n1   1  La chambre est spacieuse et lumineuse, dans un...  img_test/1.jpg\n2   2  Grande chambre confortable située au sous-sol ...  img_test/2.jpg\n3   3  Près d’un Métro, ligne orange. 10 minutes à pi...  img_test/3.jpg\n4   4  Very bright appartment and very cosy. 2 separa...  img_test/4.jpg",
            "text/html": "<div>\n<style scoped>\n    .dataframe tbody tr th:only-of-type {\n        vertical-align: middle;\n    }\n\n    .dataframe tbody tr th {\n        vertical-align: top;\n    }\n\n    .dataframe thead th {\n        text-align: right;\n    }\n</style>\n<table border=\"1\" class=\"dataframe\">\n  <thead>\n    <tr style=\"text-align: right;\">\n      <th></th>\n      <th>id</th>\n      <th>summary</th>\n      <th>image</th>\n    </tr>\n  </thead>\n  <tbody>\n    <tr>\n      <th>0</th>\n      <td>0</td>\n      <td>Charming warm house is ready to host you here ...</td>\n      <td>img_test/0.jpg</td>\n    </tr>\n    <tr>\n      <th>1</th>\n      <td>1</td>\n      <td>La chambre est spacieuse et lumineuse, dans un...</td>\n      <td>img_test/1.jpg</td>\n    </tr>\n    <tr>\n      <th>2</th>\n      <td>2</td>\n      <td>Grande chambre confortable située au sous-sol ...</td>\n      <td>img_test/2.jpg</td>\n    </tr>\n    <tr>\n      <th>3</th>\n      <td>3</td>\n      <td>Près d’un Métro, ligne orange. 10 minutes à pi...</td>\n      <td>img_test/3.jpg</td>\n    </tr>\n    <tr>\n      <th>4</th>\n      <td>4</td>\n      <td>Very bright appartment and very cosy. 2 separa...</td>\n      <td>img_test/4.jpg</td>\n    </tr>\n  </tbody>\n</table>\n</div>"
          },
          "metadata": {}
        }
      ]
    },
    {
      "cell_type": "code",
      "source": [
        "#chech number of nulls in each columns \n",
        "print(df_test.isna().sum().sort_values())"
      ],
      "metadata": {
        "execution": {
          "iopub.status.busy": "2023-04-13T22:19:17.396730Z",
          "iopub.execute_input": "2023-04-13T22:19:17.397086Z",
          "iopub.status.idle": "2023-04-13T22:19:17.408810Z",
          "shell.execute_reply.started": "2023-04-13T22:19:17.397052Z",
          "shell.execute_reply": "2023-04-13T22:19:17.407595Z"
        },
        "trusted": true,
        "id": "lOrnmV-_TfeH",
        "outputId": "325aca45-e73a-470b-c3c1-3bc85d30d85f"
      },
      "execution_count": null,
      "outputs": [
        {
          "name": "stdout",
          "text": "id         0\nsummary    0\nimage      0\ndtype: int64\n",
          "output_type": "stream"
        }
      ]
    },
    {
      "cell_type": "code",
      "source": [
        "#create function to load image from source ,resize and convert it to same size and color \n",
        "import os \n",
        "from PIL import Image\n",
        "def load_image(file):\n",
        "    try:\n",
        "        image = Image.open(file).convert('LA').resize((64, 64))#Represents L with Alpha transparency channel#resize((64, 64))\n",
        "        arr = np.array(image)\n",
        "    except:\n",
        "        arr = np.zeros((64, 64,2))\n",
        "    return arr"
      ],
      "metadata": {
        "execution": {
          "iopub.status.busy": "2023-04-13T22:19:20.186657Z",
          "iopub.execute_input": "2023-04-13T22:19:20.187019Z",
          "iopub.status.idle": "2023-04-13T22:19:20.193228Z",
          "shell.execute_reply.started": "2023-04-13T22:19:20.186986Z",
          "shell.execute_reply": "2023-04-13T22:19:20.191942Z"
        },
        "trusted": true,
        "id": "Hl41INnjTfeH"
      },
      "execution_count": null,
      "outputs": []
    },
    {
      "cell_type": "code",
      "source": [
        "# loading test images:\n",
        "df_test_image=np.array([load_image('/kaggle/input/copy-of-cisc-873-dm-w23-a4/a4/'+str(i)) for i in tqdm(df_test[\"image\"])])\n",
        "\n",
        "# loading overview: (force convert some of the non-string cell to string)\n",
        "df_test_text = df_test['summary'].astype('str')"
      ],
      "metadata": {
        "execution": {
          "iopub.status.busy": "2023-04-13T22:19:22.412528Z",
          "iopub.execute_input": "2023-04-13T22:19:22.413541Z",
          "iopub.status.idle": "2023-04-13T22:20:29.918062Z",
          "shell.execute_reply.started": "2023-04-13T22:19:22.413491Z",
          "shell.execute_reply": "2023-04-13T22:20:29.916856Z"
        },
        "trusted": true,
        "colab": {
          "referenced_widgets": [
            "fbf3bd8b52324c7f9d2e58e1c8461154"
          ]
        },
        "id": "J4OSeXUiTfeH",
        "outputId": "10afd52a-b966-4f30-f1ed-06c2084f8b69"
      },
      "execution_count": null,
      "outputs": [
        {
          "output_type": "display_data",
          "data": {
            "text/plain": "  0%|          | 0/7360 [00:00<?, ?it/s]",
            "application/vnd.jupyter.widget-view+json": {
              "version_major": 2,
              "version_minor": 0,
              "model_id": "fbf3bd8b52324c7f9d2e58e1c8461154"
            }
          },
          "metadata": {}
        }
      ]
    },
    {
      "cell_type": "code",
      "source": [
        "# checking load_image function and display some of the test images\n",
        "plt.figure(figsize=(25,20))\n",
        "for n , i in enumerate(list(np.random.randint(0,len(df_test_image),10))) : \n",
        "    plt.subplot(3,5,n+1)\n",
        "    plt.imshow(df_test_image[i, :, :,0])   \n",
        "    plt.axis('off')"
      ],
      "metadata": {
        "execution": {
          "iopub.status.busy": "2023-04-13T22:20:29.920244Z",
          "iopub.execute_input": "2023-04-13T22:20:29.920685Z",
          "iopub.status.idle": "2023-04-13T22:20:30.461053Z",
          "shell.execute_reply.started": "2023-04-13T22:20:29.920648Z",
          "shell.execute_reply": "2023-04-13T22:20:30.460151Z"
        },
        "trusted": true,
        "id": "5aRYpuG9TfeH",
        "outputId": "4f930c78-cfc5-4210-f6e3-23062b1a6b09"
      },
      "execution_count": null,
      "outputs": [
        {
          "output_type": "display_data",
          "data": {
            "text/plain": "<Figure size 2500x2000 with 10 Axes>",
            "image/png": "[encoded data removed]"
          },
          "metadata": {}
        }
      ]
    },
    {
      "cell_type": "code",
      "source": [
        "# loading summary: (force convert some of the non-string cell to string)\n",
        "df_test_text = df_test['summary'].astype('str')"
      ],
      "metadata": {
        "execution": {
          "iopub.status.busy": "2023-04-13T22:20:30.462739Z",
          "iopub.execute_input": "2023-04-13T22:20:30.463546Z",
          "iopub.status.idle": "2023-04-13T22:20:30.470010Z",
          "shell.execute_reply.started": "2023-04-13T22:20:30.463504Z",
          "shell.execute_reply": "2023-04-13T22:20:30.468912Z"
        },
        "trusted": true,
        "id": "5nogUobfTfeH"
      },
      "execution_count": null,
      "outputs": []
    },
    {
      "cell_type": "code",
      "source": [
        "#read before any preprocessing\n",
        "df_test_text "
      ],
      "metadata": {
        "execution": {
          "iopub.status.busy": "2023-04-13T22:20:30.474628Z",
          "iopub.execute_input": "2023-04-13T22:20:30.474970Z",
          "iopub.status.idle": "2023-04-13T22:20:30.485461Z",
          "shell.execute_reply.started": "2023-04-13T22:20:30.474943Z",
          "shell.execute_reply": "2023-04-13T22:20:30.484397Z"
        },
        "trusted": true,
        "id": "vv97uHkcTfeH",
        "outputId": "5cb3bb32-bc96-471a-d550-6377d641556b"
      },
      "execution_count": null,
      "outputs": [
        {
          "execution_count": 139,
          "output_type": "execute_result",
          "data": {
            "text/plain": "0       Charming warm house is ready to host you here ...\n1       La chambre est spacieuse et lumineuse, dans un...\n2       Grande chambre confortable située au sous-sol ...\n3       Près d’un Métro, ligne orange. 10 minutes à pi...\n4       Very bright appartment and very cosy. 2 separa...\n                              ...                        \n7355    Large, fully-furnished flat with brick walls a...\n7356    Logement situé dans le haut d’un duplex. Vivez...\n7357    My place is close to parks, . My place is good...\n7358    *** For security reasons, I will prioritize gu...\n7359    Stay in an amazing area of Montreal! 5-7 min f...\nName: summary, Length: 7360, dtype: object"
          },
          "metadata": {}
        }
      ]
    },
    {
      "cell_type": "code",
      "source": [
        "#apply translate function on the text of the test\n",
        "df_test_text = df_test['summary'].apply(translate)"
      ],
      "metadata": {
        "execution": {
          "iopub.status.busy": "2023-04-13T22:20:30.487013Z",
          "iopub.execute_input": "2023-04-13T22:20:30.487473Z",
          "iopub.status.idle": "2023-04-13T22:22:06.143906Z",
          "shell.execute_reply.started": "2023-04-13T22:20:30.487436Z",
          "shell.execute_reply": "2023-04-13T22:22:06.142828Z"
        },
        "trusted": true,
        "id": "PaJdBMRuTfeI"
      },
      "execution_count": null,
      "outputs": []
    },
    {
      "cell_type": "code",
      "source": [
        "#read after translation\n",
        "df_test_text "
      ],
      "metadata": {
        "execution": {
          "iopub.status.busy": "2023-04-13T22:22:06.145601Z",
          "iopub.execute_input": "2023-04-13T22:22:06.145948Z",
          "iopub.status.idle": "2023-04-13T22:22:06.155770Z",
          "shell.execute_reply.started": "2023-04-13T22:22:06.145909Z",
          "shell.execute_reply": "2023-04-13T22:22:06.154664Z"
        },
        "trusted": true,
        "id": "KCwcSppcTfeI",
        "outputId": "080581a0-18c6-4bd0-93c3-2907e1fb1720"
      },
      "execution_count": null,
      "outputs": [
        {
          "execution_count": 141,
          "output_type": "execute_result",
          "data": {
            "text/plain": "0       Charming warm house is ready to host you here ...\n1       (T, h, e,  , r, o, o, m,  , i, s,  , s, p, a, ...\n2       (L, a, r, g, e,  , c, o, m, f, o, r, t, a, b, ...\n3       (N, e, a, r,  , a,  , m, e, t, r, o, ,,  , O, ...\n4       Very bright appartment and very cosy. 2 separa...\n                              ...                        \n7355    Large, fully-furnished flat with brick walls a...\n7356    (A, c, c, o, m, m, o, d, a, t, i, o, n,  , l, ...\n7357    My place is close to parks, . My place is good...\n7358    *** For security reasons, I will prioritize gu...\n7359    Stay in an amazing area of Montreal! 5-7 min f...\nName: summary, Length: 7360, dtype: object"
          },
          "metadata": {}
        }
      ]
    },
    {
      "cell_type": "code",
      "source": [
        "#apply clean function on text of the test\n",
        "df_test_text = df_test_text.astype('str').apply(text_clean)"
      ],
      "metadata": {
        "execution": {
          "iopub.status.busy": "2023-04-13T22:22:06.157570Z",
          "iopub.execute_input": "2023-04-13T22:22:06.158247Z",
          "iopub.status.idle": "2023-04-13T22:22:10.645268Z",
          "shell.execute_reply.started": "2023-04-13T22:22:06.158209Z",
          "shell.execute_reply": "2023-04-13T22:22:10.644256Z"
        },
        "trusted": true,
        "id": "2EVPZjKlTfeI"
      },
      "execution_count": null,
      "outputs": []
    },
    {
      "cell_type": "code",
      "source": [
        "#read after cleaning\n",
        "df_test_text "
      ],
      "metadata": {
        "execution": {
          "iopub.status.busy": "2023-04-13T22:22:10.649940Z",
          "iopub.execute_input": "2023-04-13T22:22:10.652239Z",
          "iopub.status.idle": "2023-04-13T22:22:10.664480Z",
          "shell.execute_reply.started": "2023-04-13T22:22:10.652198Z",
          "shell.execute_reply": "2023-04-13T22:22:10.663349Z"
        },
        "trusted": true,
        "id": "nq0wj2BITfeI",
        "outputId": "5eeb2be0-0ffe-4a50-c241-60e7d0d3f3b5"
      },
      "execution_count": null,
      "outputs": [
        {
          "execution_count": 143,
          "output_type": "execute_result",
          "data": {
            "text/plain": "0       charming warm house is ready to host you here ...\n1       the room is spacious and bright , in an apartm...\n2       large comfortable room located in the basement...\n3       near metro , orange line . minutes walking . a...\n4       very bright appartment and very cosy . separat...\n                              ...                        \n7355    large , fully furnished flat with brick walls ...\n7356    accommodation located at the top of duplex . l...\n7357    my place is close to parks , . my place is goo...\n7358    for security reasons , will prioritize guests ...\n7359    stay in an amazing area of montreal ! min from...\nName: summary, Length: 7360, dtype: object"
          },
          "metadata": {}
        }
      ]
    },
    {
      "cell_type": "code",
      "source": [
        "df_test_text = _preprocess(df_test_text.astype('str'))"
      ],
      "metadata": {
        "execution": {
          "iopub.status.busy": "2023-04-13T22:22:10.668900Z",
          "iopub.execute_input": "2023-04-13T22:22:10.671085Z",
          "iopub.status.idle": "2023-04-13T22:22:11.025008Z",
          "shell.execute_reply.started": "2023-04-13T22:22:10.671048Z",
          "shell.execute_reply": "2023-04-13T22:22:11.023941Z"
        },
        "trusted": true,
        "id": "kp49ZHRoTfeI"
      },
      "execution_count": null,
      "outputs": []
    },
    {
      "cell_type": "code",
      "source": [
        "# prediction on the test set\n",
        "y_predict = model_1.predict(\n",
        "    {\n",
        "        'summary': df_test_text,\n",
        "        'image': df_test_image\n",
        "    }\n",
        ")\n",
        "\n",
        "\n",
        "# pridect probabilities\n",
        "price_predicted = y_predict['price']  \n",
        "\n",
        "# predict categories\n",
        "price_category_predicted = np.argmax(price_predicted, axis=1)\n",
        "print(price_category_predicted)"
      ],
      "metadata": {
        "execution": {
          "iopub.status.busy": "2023-04-13T22:22:11.028306Z",
          "iopub.execute_input": "2023-04-13T22:22:11.028699Z",
          "iopub.status.idle": "2023-04-13T22:22:12.291835Z",
          "shell.execute_reply.started": "2023-04-13T22:22:11.028656Z",
          "shell.execute_reply": "2023-04-13T22:22:12.290861Z"
        },
        "trusted": true,
        "id": "pF2P2ytQTfeI",
        "outputId": "968c7e38-eb65-4008-af6a-fb4d02b8d5ac"
      },
      "execution_count": null,
      "outputs": [
        {
          "name": "stdout",
          "text": "230/230 [==============================] - 1s 2ms/step\n[0 0 0 ... 0 0 0]\n",
          "output_type": "stream"
        }
      ]
    },
    {
      "cell_type": "code",
      "source": [
        "# generate a predicted file for first trial\n",
        "pd.DataFrame(\n",
        "    {'id': df_test['id'],\n",
        "     'price': price_category_predicted}\n",
        ").to_csv('submission_trail_one.csv', index=False)"
      ],
      "metadata": {
        "execution": {
          "iopub.status.busy": "2023-04-13T22:30:05.145603Z",
          "iopub.execute_input": "2023-04-13T22:30:05.145973Z",
          "iopub.status.idle": "2023-04-13T22:30:05.162528Z",
          "shell.execute_reply.started": "2023-04-13T22:30:05.145941Z",
          "shell.execute_reply": "2023-04-13T22:30:05.161421Z"
        },
        "trusted": true,
        "id": "D9nBi8KnTfeJ"
      },
      "execution_count": null,
      "outputs": []
    },
    {
      "cell_type": "markdown",
      "source": [
        "**observations**\n",
        "\n",
        "in this trail I used multi model multi objective to predict price and type  \n",
        "we have two input one is text and another is image \n",
        "in text part i used empedding layer to train text input \n",
        "and i took average for this layer then we have input image,i used conv2d as first layer then dropout. in addition maxpolling is second and third layer then make flatten the output predict multilabel so two dense layers was used with \n",
        "activation function softmax \n",
        "\n",
        "\n",
        "Dropout layer is a computationally cheap way to regularize a deep neural network. we can reduce the risk of overfitting and improve the generalization performance of our neural network.\n",
        "\n",
        "the public score : 0.68179\n",
        "\n",
        "it was the best"
      ],
      "metadata": {
        "id": "hdjgZ7BPlOk_"
      }
    },
    {
      "cell_type": "markdown",
      "source": [
        "#second_trial"
      ],
      "metadata": {
        "id": "TTLf2aIneWBW"
      }
    },
    {
      "cell_type": "code",
      "source": [
        "# here we have two inputs. one for image and the other for text.\n",
        "in_text = keras.Input(batch_shape=(None, max_len))\n",
        "in_image = keras.Input(batch_shape=(None, 64, 64, 2))\n",
        "\n",
        "# text part\n",
        "embedded = keras.layers.Embedding(tokenizer.num_words, 100)(in_text)\n",
        "averaged = tf.reduce_mean(embedded, axis=1)\n",
        "\n",
        "\n",
        "# image part \n",
        "cov1 =layers.Conv2D(15, 15 ,activation='relu')(in_image)\n",
        "cov2 =layers.Conv2D(10, 10,activation='relu')(cov1)\n",
        "cov3=layers.Conv2D(15, 15,activation='relu')(cov2)\n",
        "pl = MaxPool2D((3, 3))(cov3)\n",
        "flattened = Flatten()(pl)\n",
        "\n",
        "# combine the two inputs\n",
        "fused = tf.concat([averaged, flattened], axis=-1)\n",
        "\n",
        "# one dense layer for each task\n",
        "p_type = Dense(len_type, activation='softmax', name='type')(fused)\n",
        "p_price = Dense(len_price, activation='softmax', name='price')(fused)\n",
        "\n",
        "\n",
        "# define model input/output using keys.\n",
        "model_2 = keras.Model(\n",
        "    inputs={\n",
        "        'summary': in_text,\n",
        "        'image': in_image\n",
        "    },\n",
        "    outputs={\n",
        "        'type': p_type,\n",
        "        'price': p_price,\n",
        "    },\n",
        ")"
      ],
      "metadata": {
        "execution": {
          "iopub.status.busy": "2023-04-13T23:01:59.896650Z",
          "iopub.execute_input": "2023-04-13T23:01:59.897020Z",
          "iopub.status.idle": "2023-04-13T23:02:00.009151Z",
          "shell.execute_reply.started": "2023-04-13T23:01:59.896988Z",
          "shell.execute_reply": "2023-04-13T23:02:00.008210Z"
        },
        "trusted": true,
        "id": "v4kLf31HTfeJ"
      },
      "execution_count": null,
      "outputs": []
    },
    {
      "cell_type": "code",
      "source": [
        "# compile model \n",
        "model_2.compile(\n",
        "    optimizer=Adam(0.001),\n",
        "    loss={\n",
        "        'type': 'sparse_categorical_crossentropy',\n",
        "        'price': 'sparse_categorical_crossentropy',\n",
        "    },\n",
        "    loss_weights={\n",
        "        'type': .2,\n",
        "        'price': .8,       \n",
        "    },\n",
        "    metrics={\n",
        "        'type': ['SparseCategoricalAccuracy'],\n",
        "        'price': ['SparseCategoricalAccuracy'],\n",
        "    },\n",
        ")"
      ],
      "metadata": {
        "execution": {
          "iopub.status.busy": "2023-04-13T23:05:41.310801Z",
          "iopub.execute_input": "2023-04-13T23:05:41.311160Z",
          "iopub.status.idle": "2023-04-13T23:05:41.326523Z",
          "shell.execute_reply.started": "2023-04-13T23:05:41.311125Z",
          "shell.execute_reply": "2023-04-13T23:05:41.325497Z"
        },
        "trusted": true,
        "id": "b5xvZbCjTfeJ"
      },
      "execution_count": null,
      "outputs": []
    },
    {
      "cell_type": "code",
      "source": [
        "model_2.summary()"
      ],
      "metadata": {
        "execution": {
          "iopub.status.busy": "2023-04-13T23:05:51.135229Z",
          "iopub.execute_input": "2023-04-13T23:05:51.135923Z",
          "iopub.status.idle": "2023-04-13T23:05:51.165567Z",
          "shell.execute_reply.started": "2023-04-13T23:05:51.135885Z",
          "shell.execute_reply": "2023-04-13T23:05:51.164791Z"
        },
        "trusted": true,
        "id": "0E46x8jgTfeJ",
        "outputId": "ec56831d-44ff-4f6c-9a7c-48102c80858a"
      },
      "execution_count": null,
      "outputs": [
        {
          "name": "stdout",
          "text": "Model: \"model_1\"\n__________________________________________________________________________________________________\n Layer (type)                   Output Shape         Param #     Connected to                     \n==================================================================================================\n input_6 (InputLayer)           [(None, 64, 64, 2)]  0           []                               \n                                                                                                  \n conv2d_2 (Conv2D)              (None, 50, 50, 15)   6765        ['input_6[0][0]']                \n                                                                                                  \n conv2d_3 (Conv2D)              (None, 41, 41, 10)   15010       ['conv2d_2[0][0]']               \n                                                                                                  \n input_5 (InputLayer)           [(None, 100)]        0           []                               \n                                                                                                  \n conv2d_4 (Conv2D)              (None, 27, 27, 15)   33765       ['conv2d_3[0][0]']               \n                                                                                                  \n embedding_2 (Embedding)        (None, 100, 100)     60000000    ['input_5[0][0]']                \n                                                                                                  \n max_pooling2d_1 (MaxPooling2D)  (None, 9, 9, 15)    0           ['conv2d_4[0][0]']               \n                                                                                                  \n tf.math.reduce_mean_2 (TFOpLam  (None, 100)         0           ['embedding_2[0][0]']            \n bda)                                                                                             \n                                                                                                  \n flatten_1 (Flatten)            (None, 1215)         0           ['max_pooling2d_1[0][0]']        \n                                                                                                  \n tf.concat_1 (TFOpLambda)       (None, 1315)         0           ['tf.math.reduce_mean_2[0][0]',  \n                                                                  'flatten_1[0][0]']              \n                                                                                                  \n price (Dense)                  (None, 3)            3948        ['tf.concat_1[0][0]']            \n                                                                                                  \n type (Dense)                   (None, 24)           31584       ['tf.concat_1[0][0]']            \n                                                                                                  \n==================================================================================================\nTotal params: 60,091,072\nTrainable params: 60,091,072\nNon-trainable params: 0\n__________________________________________________________________________________________________\n",
          "output_type": "stream"
        }
      ]
    },
    {
      "cell_type": "code",
      "source": [
        "#train the model on the train dataset\n",
        "history = model_2.fit(\n",
        "    x={\n",
        "        'summary': df_train_text_id,\n",
        "        'image': df_train_image\n",
        "    },\n",
        "    y={\n",
        "        'type': y_train_type,\n",
        "        'price': y_train_price,\n",
        "    },\n",
        "    epochs=8,\n",
        "    batch_size=27,\n",
        "    validation_split=0.2,\n",
        "    callbacks=[\n",
        "        tf.keras.callbacks.EarlyStopping(monitor='val_price_loss', patience=10, )\n",
        "    ],\n",
        "    verbose=1\n",
        ")\n",
        "    "
      ],
      "metadata": {
        "execution": {
          "iopub.status.busy": "2023-04-13T23:06:47.986290Z",
          "iopub.execute_input": "2023-04-13T23:06:47.986868Z",
          "iopub.status.idle": "2023-04-13T23:08:11.254719Z",
          "shell.execute_reply.started": "2023-04-13T23:06:47.986832Z",
          "shell.execute_reply": "2023-04-13T23:08:11.253643Z"
        },
        "trusted": true,
        "id": "nQtmD8apTfeJ",
        "outputId": "fd2f116b-1541-41df-a0d3-4f1caacd2019"
      },
      "execution_count": null,
      "outputs": [
        {
          "name": "stdout",
          "text": "Epoch 1/8\n218/218 [==============================] - 26s 109ms/step - loss: 1.4881 - price_loss: 1.3175 - type_loss: 2.1704 - price_sparse_categorical_accuracy: 0.6046 - type_sparse_categorical_accuracy: 0.7406 - val_loss: 0.8461 - val_price_loss: 0.8173 - val_type_loss: 0.9615 - val_price_sparse_categorical_accuracy: 0.6241 - val_type_sparse_categorical_accuracy: 0.7688\nEpoch 2/8\n218/218 [==============================] - 9s 43ms/step - loss: 0.8531 - price_loss: 0.8170 - type_loss: 0.9978 - price_sparse_categorical_accuracy: 0.6196 - type_sparse_categorical_accuracy: 0.7560 - val_loss: 0.8294 - val_price_loss: 0.7997 - val_type_loss: 0.9482 - val_price_sparse_categorical_accuracy: 0.6241 - val_type_sparse_categorical_accuracy: 0.7688\nEpoch 3/8\n218/218 [==============================] - 6s 25ms/step - loss: 0.8274 - price_loss: 0.7881 - type_loss: 0.9845 - price_sparse_categorical_accuracy: 0.6263 - type_sparse_categorical_accuracy: 0.7560 - val_loss: 0.8019 - val_price_loss: 0.7680 - val_type_loss: 0.9375 - val_price_sparse_categorical_accuracy: 0.6385 - val_type_sparse_categorical_accuracy: 0.7688\nEpoch 4/8\n218/218 [==============================] - 4s 19ms/step - loss: 0.7899 - price_loss: 0.7448 - type_loss: 0.9707 - price_sparse_categorical_accuracy: 0.6539 - type_sparse_categorical_accuracy: 0.7560 - val_loss: 0.7734 - val_price_loss: 0.7349 - val_type_loss: 0.9274 - val_price_sparse_categorical_accuracy: 0.6603 - val_type_sparse_categorical_accuracy: 0.7688\nEpoch 5/8\n218/218 [==============================] - 4s 16ms/step - loss: 0.7531 - price_loss: 0.7025 - type_loss: 0.9554 - price_sparse_categorical_accuracy: 0.6799 - type_sparse_categorical_accuracy: 0.7560 - val_loss: 0.7524 - val_price_loss: 0.7121 - val_type_loss: 0.9139 - val_price_sparse_categorical_accuracy: 0.6808 - val_type_sparse_categorical_accuracy: 0.7688\nEpoch 6/8\n218/218 [==============================] - 4s 19ms/step - loss: 0.7222 - price_loss: 0.6673 - type_loss: 0.9417 - price_sparse_categorical_accuracy: 0.7012 - type_sparse_categorical_accuracy: 0.7560 - val_loss: 0.7401 - val_price_loss: 0.6991 - val_type_loss: 0.9040 - val_price_sparse_categorical_accuracy: 0.6849 - val_type_sparse_categorical_accuracy: 0.7688\nEpoch 7/8\n218/218 [==============================] - 4s 16ms/step - loss: 0.6961 - price_loss: 0.6383 - type_loss: 0.9274 - price_sparse_categorical_accuracy: 0.7229 - type_sparse_categorical_accuracy: 0.7560 - val_loss: 0.7335 - val_price_loss: 0.6918 - val_type_loss: 0.9005 - val_price_sparse_categorical_accuracy: 0.6903 - val_type_sparse_categorical_accuracy: 0.7688\nEpoch 8/8\n218/218 [==============================] - 3s 15ms/step - loss: 0.6728 - price_loss: 0.6125 - type_loss: 0.9141 - price_sparse_categorical_accuracy: 0.7348 - type_sparse_categorical_accuracy: 0.7558 - val_loss: 0.7291 - val_price_loss: 0.6892 - val_type_loss: 0.8887 - val_price_sparse_categorical_accuracy: 0.6910 - val_type_sparse_categorical_accuracy: 0.7694\n",
          "output_type": "stream"
        }
      ]
    },
    {
      "cell_type": "code",
      "source": [
        "# prediction on the test set\n",
        "y_predict = model_2.predict(\n",
        "    {\n",
        "        'summary': df_test_text,\n",
        "        'image': df_test_image\n",
        "    }\n",
        ")\n",
        "\n",
        "# pridect probabilities\n",
        "price_predicted = y_predict['price']  \n",
        "\n",
        "# predict categories\n",
        "price_category_predicted = np.argmax(price_predicted, axis=1)\n",
        "print(price_category_predicted)"
      ],
      "metadata": {
        "execution": {
          "iopub.status.busy": "2023-04-13T23:12:42.376455Z",
          "iopub.execute_input": "2023-04-13T23:12:42.377078Z",
          "iopub.status.idle": "2023-04-13T23:12:44.406823Z",
          "shell.execute_reply.started": "2023-04-13T23:12:42.377040Z",
          "shell.execute_reply": "2023-04-13T23:12:44.405576Z"
        },
        "trusted": true,
        "id": "0l-o4y6sTfeK",
        "outputId": "94ebe0b1-8305-478b-fdc0-b070db730668"
      },
      "execution_count": null,
      "outputs": [
        {
          "name": "stdout",
          "text": "230/230 [==============================] - 1s 3ms/step\n[0 0 0 ... 0 0 0]\n",
          "output_type": "stream"
        }
      ]
    },
    {
      "cell_type": "code",
      "source": [
        "# generate a predicted file for the second trial\n",
        "pd.DataFrame(\n",
        "    {'id': df_test['id'],\n",
        "     'price': price_category_predicted}\n",
        ").to_csv('submission_trail_two.csv', index=False)"
      ],
      "metadata": {
        "execution": {
          "iopub.status.busy": "2023-04-13T23:13:13.793962Z",
          "iopub.execute_input": "2023-04-13T23:13:13.794588Z",
          "iopub.status.idle": "2023-04-13T23:13:13.810728Z",
          "shell.execute_reply.started": "2023-04-13T23:13:13.794551Z",
          "shell.execute_reply": "2023-04-13T23:13:13.809764Z"
        },
        "trusted": true,
        "id": "TzT2SVaiTfeK"
      },
      "execution_count": null,
      "outputs": []
    },
    {
      "cell_type": "markdown",
      "source": [
        "**observations**\n",
        "\n",
        "in this trail I used multi model multi objective to predict price and type  \n",
        "we have two input one is text and another is image \n",
        "in text part i used empedding layer to train text input \n",
        "and i took average for this layer as the previous trial then we have input image,i used conv2d layers without dropout. in addition maxpolling \n",
        "\n",
        "\n",
        "this trial performed less than the previous model because it does not have dropout layers\n",
        "\n",
        "the public score : 0.675\n"
      ],
      "metadata": {
        "id": "Y0gR9Etgn7IY"
      }
    },
    {
      "cell_type": "markdown",
      "source": [
        "#third_trial"
      ],
      "metadata": {
        "id": "IA47j6GgeeJl"
      }
    },
    {
      "cell_type": "code",
      "source": [
        "# here we have two inputs. one for image and the other for text.\n",
        "in_text = keras.Input(batch_shape=(None, max_len))  \n",
        "in_image = keras.Input(batch_shape=(None, 64, 64, 2)) \n",
        "\n",
        "# text part\n",
        "embedded = keras.layers.Embedding(tokenizer.num_words, 100)(in_text) \n",
        "averaged = tf.reduce_mean(embedded, axis=1) \n",
        "\n",
        "# image part \n",
        "cov1 = Conv2D(16, 16, padding='same', activation='relu')(in_image)  \n",
        "max1=MaxPooling2D()(cov1)\n",
        "cov2 = Conv2D(16, 16, padding='same', activation='relu')(max1)  \n",
        "max2=MaxPooling2D()(cov2)\n",
        "conv3=Conv2D(64, 64, padding='same', activation='relu')(max2)\n",
        "max3=MaxPooling2D()(conv3)\n",
        "flattened = Flatten() (max3) \n",
        "\n",
        "# concatenate text features with images\n",
        "fused = tf.concat([averaged, flattened], axis=-1)\n",
        "\n",
        "# one dense layer for each task\n",
        "p_type = Dense(len_type, activation='softmax', name='type')(fused)\n",
        "p_price = Dense(len_price, activation='softmax', name='price')(fused)\n",
        "\n",
        "\n",
        "# define model input/output using keys.\n",
        "model_3 = keras.Model(\n",
        "    inputs={\n",
        "        'summary': in_text,\n",
        "        'image': in_image\n",
        "    },\n",
        "    outputs={\n",
        "        'type': p_type,  \n",
        "        'price': p_price \n",
        "    }\n",
        ")"
      ],
      "metadata": {
        "execution": {
          "iopub.status.busy": "2023-04-13T23:59:00.390401Z",
          "iopub.execute_input": "2023-04-13T23:59:00.390916Z",
          "iopub.status.idle": "2023-04-13T23:59:00.485847Z",
          "shell.execute_reply.started": "2023-04-13T23:59:00.390864Z",
          "shell.execute_reply": "2023-04-13T23:59:00.484860Z"
        },
        "trusted": true,
        "id": "-MWSmDttTfeK"
      },
      "execution_count": null,
      "outputs": []
    },
    {
      "cell_type": "code",
      "source": [
        "# compile model .\n",
        "model_3.compile(\n",
        "    optimizer= Adam(.001), \n",
        "\n",
        "\n",
        "    loss={\n",
        "        'type': 'sparse_categorical_crossentropy',\n",
        "        'price': 'sparse_categorical_crossentropy',\n",
        "    },\n",
        "    loss_weights={\n",
        "        'type': .5,\n",
        "        'price': .5,       \n",
        "    },\n",
        "    metrics={\n",
        "        'type': ['SparseCategoricalAccuracy'],\n",
        "        'price': ['SparseCategoricalAccuracy'],\n",
        "    },\n",
        ")\n"
      ],
      "metadata": {
        "execution": {
          "iopub.status.busy": "2023-04-13T23:59:26.702017Z",
          "iopub.execute_input": "2023-04-13T23:59:26.703041Z",
          "iopub.status.idle": "2023-04-13T23:59:26.716612Z",
          "shell.execute_reply.started": "2023-04-13T23:59:26.702993Z",
          "shell.execute_reply": "2023-04-13T23:59:26.715569Z"
        },
        "trusted": true,
        "id": "0WdfmdTnTfeK"
      },
      "execution_count": null,
      "outputs": []
    },
    {
      "cell_type": "code",
      "source": [
        "model_3.summary()"
      ],
      "metadata": {
        "execution": {
          "iopub.status.busy": "2023-04-13T23:59:48.081513Z",
          "iopub.execute_input": "2023-04-13T23:59:48.081877Z",
          "iopub.status.idle": "2023-04-13T23:59:48.114981Z",
          "shell.execute_reply.started": "2023-04-13T23:59:48.081845Z",
          "shell.execute_reply": "2023-04-13T23:59:48.114217Z"
        },
        "trusted": true,
        "id": "33snmj-eTfeK",
        "outputId": "bf464ede-1eb5-42f6-bba0-2d524e63cae4"
      },
      "execution_count": null,
      "outputs": [
        {
          "name": "stdout",
          "text": "Model: \"model_8\"\n__________________________________________________________________________________________________\n Layer (type)                   Output Shape         Param #     Connected to                     \n==================================================================================================\n input_37 (InputLayer)          [(None, 64, 64, 2)]  0           []                               \n                                                                                                  \n conv2d_17 (Conv2D)             (None, 64, 64, 16)   8208        ['input_37[0][0]']               \n                                                                                                  \n max_pooling2d_5 (MaxPooling2D)  (None, 32, 32, 16)  0           ['conv2d_17[0][0]']              \n                                                                                                  \n conv2d_18 (Conv2D)             (None, 32, 32, 16)   65552       ['max_pooling2d_5[0][0]']        \n                                                                                                  \n max_pooling2d_6 (MaxPooling2D)  (None, 16, 16, 16)  0           ['conv2d_18[0][0]']              \n                                                                                                  \n input_36 (InputLayer)          [(None, 100)]        0           []                               \n                                                                                                  \n conv2d_19 (Conv2D)             (None, 16, 16, 64)   4194368     ['max_pooling2d_6[0][0]']        \n                                                                                                  \n embedding_13 (Embedding)       (None, 100, 100)     60000000    ['input_36[0][0]']               \n                                                                                                  \n max_pooling2d_7 (MaxPooling2D)  (None, 8, 8, 64)    0           ['conv2d_19[0][0]']              \n                                                                                                  \n tf.math.reduce_mean_13 (TFOpLa  (None, 100)         0           ['embedding_13[0][0]']           \n mbda)                                                                                            \n                                                                                                  \n flatten_8 (Flatten)            (None, 4096)         0           ['max_pooling2d_7[0][0]']        \n                                                                                                  \n tf.concat_8 (TFOpLambda)       (None, 4196)         0           ['tf.math.reduce_mean_13[0][0]', \n                                                                  'flatten_8[0][0]']              \n                                                                                                  \n price (Dense)                  (None, 3)            12591       ['tf.concat_8[0][0]']            \n                                                                                                  \n type (Dense)                   (None, 24)           100728      ['tf.concat_8[0][0]']            \n                                                                                                  \n==================================================================================================\nTotal params: 64,381,447\nTrainable params: 64,381,447\nNon-trainable params: 0\n__________________________________________________________________________________________________\n",
          "output_type": "stream"
        }
      ]
    },
    {
      "cell_type": "code",
      "source": [
        "#train the model on the train data\n",
        "history = model_3.fit(\n",
        "    x={\n",
        "        'summary': df_train_text_id,\n",
        "        'image': df_train_image\n",
        "    },\n",
        "    y={\n",
        "        'type': y_train_type,\n",
        "        'price': y_train_price,\n",
        "    },\n",
        "    epochs=8,\n",
        "    batch_size=32,\n",
        "    validation_split=0.2,\n",
        "    callbacks=[\n",
        "        tf.keras.callbacks.EarlyStopping(monitor='val_price_loss', patience=6, )\n",
        "    ],\n",
        "    verbose=1\n",
        ")"
      ],
      "metadata": {
        "execution": {
          "iopub.status.busy": "2023-04-14T00:03:31.542925Z",
          "iopub.execute_input": "2023-04-14T00:03:31.544014Z",
          "iopub.status.idle": "2023-04-14T00:04:49.575706Z",
          "shell.execute_reply.started": "2023-04-14T00:03:31.543972Z",
          "shell.execute_reply": "2023-04-14T00:04:49.574703Z"
        },
        "trusted": true,
        "id": "2ImEZaLTTfeK",
        "outputId": "d1750123-54b1-4719-e855-5526e022d40f"
      },
      "execution_count": null,
      "outputs": [
        {
          "name": "stdout",
          "text": "Epoch 1/8\n184/184 [==============================] - 20s 105ms/step - loss: 0.5753 - price_loss: 0.5753 - type_loss: 3.1481 - price_sparse_categorical_accuracy: 0.7609 - type_sparse_categorical_accuracy: 0.7253 - val_loss: 0.6896 - val_price_loss: 0.6896 - val_type_loss: 3.1489 - val_price_sparse_categorical_accuracy: 0.6937 - val_type_sparse_categorical_accuracy: 0.7510\nEpoch 2/8\n184/184 [==============================] - 13s 70ms/step - loss: 0.5568 - price_loss: 0.5568 - type_loss: 3.1503 - price_sparse_categorical_accuracy: 0.7693 - type_sparse_categorical_accuracy: 0.7319 - val_loss: 0.6923 - val_price_loss: 0.6923 - val_type_loss: 3.1496 - val_price_sparse_categorical_accuracy: 0.6917 - val_type_sparse_categorical_accuracy: 0.7497\nEpoch 3/8\n184/184 [==============================] - 10s 53ms/step - loss: 0.5373 - price_loss: 0.5373 - type_loss: 3.1520 - price_sparse_categorical_accuracy: 0.7776 - type_sparse_categorical_accuracy: 0.7346 - val_loss: 0.6953 - val_price_loss: 0.6953 - val_type_loss: 3.1521 - val_price_sparse_categorical_accuracy: 0.6855 - val_type_sparse_categorical_accuracy: 0.7531\nEpoch 4/8\n184/184 [==============================] - 9s 46ms/step - loss: 0.5204 - price_loss: 0.5204 - type_loss: 3.1535 - price_sparse_categorical_accuracy: 0.7881 - type_sparse_categorical_accuracy: 0.7355 - val_loss: 0.6983 - val_price_loss: 0.6983 - val_type_loss: 3.1540 - val_price_sparse_categorical_accuracy: 0.6896 - val_type_sparse_categorical_accuracy: 0.7558\nEpoch 5/8\n184/184 [==============================] - 9s 48ms/step - loss: 0.5007 - price_loss: 0.5007 - type_loss: 3.1552 - price_sparse_categorical_accuracy: 0.7964 - type_sparse_categorical_accuracy: 0.7372 - val_loss: 0.7056 - val_price_loss: 0.7056 - val_type_loss: 3.1545 - val_price_sparse_categorical_accuracy: 0.6869 - val_type_sparse_categorical_accuracy: 0.7572\nEpoch 6/8\n184/184 [==============================] - 9s 49ms/step - loss: 0.4816 - price_loss: 0.4816 - type_loss: 3.1569 - price_sparse_categorical_accuracy: 0.8099 - type_sparse_categorical_accuracy: 0.7254 - val_loss: 0.7115 - val_price_loss: 0.7115 - val_type_loss: 3.1547 - val_price_sparse_categorical_accuracy: 0.6821 - val_type_sparse_categorical_accuracy: 0.7606\nEpoch 7/8\n184/184 [==============================] - 9s 47ms/step - loss: 0.4641 - price_loss: 0.4641 - type_loss: 3.1586 - price_sparse_categorical_accuracy: 0.8108 - type_sparse_categorical_accuracy: 0.6730 - val_loss: 0.7173 - val_price_loss: 0.7173 - val_type_loss: 3.1586 - val_price_sparse_categorical_accuracy: 0.6801 - val_type_sparse_categorical_accuracy: 0.7203\n",
          "output_type": "stream"
        }
      ]
    },
    {
      "cell_type": "code",
      "source": [
        "# prediction on the test set\n",
        "y_predict = model_3.predict(\n",
        "    {\n",
        "        'summary': df_test_text,\n",
        "        'image': df_test_image\n",
        "    }\n",
        ")\n",
        "\n",
        "\n",
        "# pridect probabilities\n",
        "price_predicted = y_predict['price']  \n",
        "\n",
        "# predict categories\n",
        "price_category_predicted = np.argmax(price_predicted, axis=1)\n",
        "print(price_category_predicted)"
      ],
      "metadata": {
        "execution": {
          "iopub.status.busy": "2023-04-14T00:07:58.438438Z",
          "iopub.execute_input": "2023-04-14T00:07:58.438839Z",
          "iopub.status.idle": "2023-04-14T00:08:56.840537Z",
          "shell.execute_reply.started": "2023-04-14T00:07:58.438805Z",
          "shell.execute_reply": "2023-04-14T00:08:56.839213Z"
        },
        "trusted": true,
        "id": "y-Xax3xSTfeL",
        "outputId": "070c0353-2f31-456b-d6de-7fbe1277b091"
      },
      "execution_count": null,
      "outputs": [
        {
          "name": "stdout",
          "text": "230/230 [==============================] - 1s 6ms/step\n[0 0 0 ... 0 0 0]\n",
          "output_type": "stream"
        }
      ]
    },
    {
      "cell_type": "code",
      "source": [
        "# generate a predicted file third trial\n",
        "pd.DataFrame(\n",
        "    {'id': df_test['id'],\n",
        "     'price': price_category_predicted}\n",
        ").to_csv('submission_trail_three.csv', index=False)"
      ],
      "metadata": {
        "execution": {
          "iopub.status.busy": "2023-04-14T00:09:02.598493Z",
          "iopub.execute_input": "2023-04-14T00:09:02.598858Z",
          "iopub.status.idle": "2023-04-14T00:09:02.614786Z",
          "shell.execute_reply.started": "2023-04-14T00:09:02.598825Z",
          "shell.execute_reply": "2023-04-14T00:09:02.613802Z"
        },
        "trusted": true,
        "id": "g9Xa147gTfeL"
      },
      "execution_count": null,
      "outputs": []
    },
    {
      "cell_type": "markdown",
      "source": [
        "**observations** \n",
        "\n",
        "in this trial i used maxpoolinf layers and padding during build my CNN architecture \n",
        "\n",
        "max pooling to downsample the generated feature matrix befor flatten and dense layer to reduce complexity of the model and avoid overfitting\n",
        "\n",
        "padding to get the same image size after convolutional operation in CNN\n",
        "\n",
        "\n",
        "this trial slightly performed better than the previos trial \n",
        "\n",
        "the puplic score: .67798"
      ],
      "metadata": {
        "id": "PrNMzQ2CqLAp"
      }
    },
    {
      "cell_type": "markdown",
      "source": [
        "#fourth_trial"
      ],
      "metadata": {
        "id": "HLFTSbMxelvU"
      }
    },
    {
      "cell_type": "code",
      "source": [
        "# here we have two inputs. one for image and the other for text.\n",
        "in_text = keras.Input(batch_shape=(None, max_len))\n",
        "in_image = keras.Input(batch_shape=(None, 64, 64, 2))\n",
        "\n",
        "# text part\n",
        "embedded = keras.layers.Embedding(tokenizer.num_words, 100)(in_text)\n",
        "gru =keras.layers.GRU(4)(embedded)\n",
        "\n",
        "# image part \n",
        "cov1 = Conv2D(10, (15,15) , activation='relu')(in_image) \n",
        "pl = MaxPool2D((5, 5))(cov1)\n",
        "flattened = Flatten()(pl)\n",
        "# conatenate the two inputs\n",
        "fused = tf.concat([gru, flattened], axis=-1)\n",
        "\n",
        "# one dense layer for each task\n",
        "p_type = Dense(len_type, activation='softmax', name='type')(fused)\n",
        "p_price = Dense(len_price, activation='softmax', name='price')(fused)\n",
        "\n",
        "\n",
        "# define model input/output using keys.\n",
        "model_4= keras.Model(\n",
        "    inputs={\n",
        "        'summary': in_text,\n",
        "        'image': in_image\n",
        "    },\n",
        "    outputs={\n",
        "        'type': p_type,\n",
        "        'price': p_price,\n",
        "    },\n",
        ")"
      ],
      "metadata": {
        "execution": {
          "iopub.status.busy": "2023-04-14T00:12:12.340465Z",
          "iopub.execute_input": "2023-04-14T00:12:12.341058Z",
          "iopub.status.idle": "2023-04-14T00:12:12.671021Z",
          "shell.execute_reply.started": "2023-04-14T00:12:12.341020Z",
          "shell.execute_reply": "2023-04-14T00:12:12.670058Z"
        },
        "trusted": true,
        "id": "Bx-pHXlfTfeL"
      },
      "execution_count": null,
      "outputs": []
    },
    {
      "cell_type": "code",
      "source": [
        "# compile model \n",
        "model_4.compile(\n",
        "    optimizer=Adam(),\n",
        "    loss={\n",
        "        'type': 'sparse_categorical_crossentropy',\n",
        "        'price': 'sparse_categorical_crossentropy',\n",
        "    },\n",
        "    loss_weights={\n",
        "        'type': .3,\n",
        "        'price': .7,       \n",
        "    },\n",
        "    metrics={\n",
        "        'type': ['SparseCategoricalAccuracy'],\n",
        "        'price': ['SparseCategoricalAccuracy'],\n",
        "    },\n",
        ")"
      ],
      "metadata": {
        "execution": {
          "iopub.status.busy": "2023-04-14T00:12:18.288208Z",
          "iopub.execute_input": "2023-04-14T00:12:18.288883Z",
          "iopub.status.idle": "2023-04-14T00:12:18.303480Z",
          "shell.execute_reply.started": "2023-04-14T00:12:18.288846Z",
          "shell.execute_reply": "2023-04-14T00:12:18.302527Z"
        },
        "trusted": true,
        "id": "Mw2FdAuETfeL"
      },
      "execution_count": null,
      "outputs": []
    },
    {
      "cell_type": "code",
      "source": [
        "model_4.summary()"
      ],
      "metadata": {
        "execution": {
          "iopub.status.busy": "2023-04-14T00:12:34.067753Z",
          "iopub.execute_input": "2023-04-14T00:12:34.071484Z",
          "iopub.status.idle": "2023-04-14T00:12:34.122107Z",
          "shell.execute_reply.started": "2023-04-14T00:12:34.071432Z",
          "shell.execute_reply": "2023-04-14T00:12:34.121455Z"
        },
        "trusted": true,
        "id": "KPd2GfjVTfeL",
        "outputId": "3c584cc7-8c53-4a82-9981-8727d57244cb"
      },
      "execution_count": null,
      "outputs": [
        {
          "name": "stdout",
          "text": "Model: \"model_9\"\n__________________________________________________________________________________________________\n Layer (type)                   Output Shape         Param #     Connected to                     \n==================================================================================================\n input_39 (InputLayer)          [(None, 64, 64, 2)]  0           []                               \n                                                                                                  \n input_38 (InputLayer)          [(None, 100)]        0           []                               \n                                                                                                  \n conv2d_20 (Conv2D)             (None, 50, 50, 10)   4510        ['input_39[0][0]']               \n                                                                                                  \n embedding_14 (Embedding)       (None, 100, 100)     60000000    ['input_38[0][0]']               \n                                                                                                  \n max_pooling2d_8 (MaxPooling2D)  (None, 10, 10, 10)  0           ['conv2d_20[0][0]']              \n                                                                                                  \n gru (GRU)                      (None, 4)            1272        ['embedding_14[0][0]']           \n                                                                                                  \n flatten_9 (Flatten)            (None, 1000)         0           ['max_pooling2d_8[0][0]']        \n                                                                                                  \n tf.concat_9 (TFOpLambda)       (None, 1004)         0           ['gru[0][0]',                    \n                                                                  'flatten_9[0][0]']              \n                                                                                                  \n price (Dense)                  (None, 3)            3015        ['tf.concat_9[0][0]']            \n                                                                                                  \n type (Dense)                   (None, 24)           24120       ['tf.concat_9[0][0]']            \n                                                                                                  \n==================================================================================================\nTotal params: 60,032,917\nTrainable params: 60,032,917\nNon-trainable params: 0\n__________________________________________________________________________________________________\n",
          "output_type": "stream"
        }
      ]
    },
    {
      "cell_type": "code",
      "source": [
        "#train model on the train data\n",
        "history = model_4.fit(\n",
        "    x={\n",
        "        'summary': df_train_text_id,\n",
        "        'image': df_train_image\n",
        "    },\n",
        "    y={\n",
        "        'type': y_train_type,\n",
        "        'price': y_train_price,\n",
        "    },\n",
        "    epochs=8,\n",
        "    batch_size=32,\n",
        "    validation_split=0.2,\n",
        "    callbacks=[\n",
        "        tf.keras.callbacks.EarlyStopping(monitor='val_price_loss', patience=6, )\n",
        "    ],\n",
        "    verbose=1\n",
        ")"
      ],
      "metadata": {
        "execution": {
          "iopub.status.busy": "2023-04-14T00:12:54.189258Z",
          "iopub.execute_input": "2023-04-14T00:12:54.189703Z",
          "iopub.status.idle": "2023-04-14T00:14:19.541046Z",
          "shell.execute_reply.started": "2023-04-14T00:12:54.189656Z",
          "shell.execute_reply": "2023-04-14T00:14:19.539891Z"
        },
        "trusted": true,
        "id": "255EM18_TfeL",
        "outputId": "5fe1afd5-2c57-4f4f-ad02-86d02735c398"
      },
      "execution_count": null,
      "outputs": [
        {
          "name": "stdout",
          "text": "Epoch 1/8\n184/184 [==============================] - 19s 82ms/step - loss: 5.2938 - price_loss: 5.2938 - type_loss: 25.5419 - price_sparse_categorical_accuracy: 0.6038 - type_sparse_categorical_accuracy: 0.0138 - val_loss: 0.8472 - val_price_loss: 0.8472 - val_type_loss: 3.1788 - val_price_sparse_categorical_accuracy: 0.6241 - val_type_sparse_categorical_accuracy: 0.0000e+00\nEpoch 2/8\n184/184 [==============================] - 7s 36ms/step - loss: 0.8437 - price_loss: 0.8437 - type_loss: 3.1799 - price_sparse_categorical_accuracy: 0.6196 - type_sparse_categorical_accuracy: 1.7065e-04 - val_loss: 0.8305 - val_price_loss: 0.8305 - val_type_loss: 3.1790 - val_price_sparse_categorical_accuracy: 0.6241 - val_type_sparse_categorical_accuracy: 0.0000e+00\nEpoch 3/8\n184/184 [==============================] - 5s 28ms/step - loss: 0.8378 - price_loss: 0.8378 - type_loss: 3.1800 - price_sparse_categorical_accuracy: 0.6196 - type_sparse_categorical_accuracy: 3.4130e-04 - val_loss: 0.8285 - val_price_loss: 0.8285 - val_type_loss: 3.1790 - val_price_sparse_categorical_accuracy: 0.6241 - val_type_sparse_categorical_accuracy: 0.0000e+00\nEpoch 4/8\n184/184 [==============================] - 4s 21ms/step - loss: 0.8370 - price_loss: 0.8370 - type_loss: 3.1801 - price_sparse_categorical_accuracy: 0.6200 - type_sparse_categorical_accuracy: 3.4130e-04 - val_loss: 0.8285 - val_price_loss: 0.8285 - val_type_loss: 3.1790 - val_price_sparse_categorical_accuracy: 0.6241 - val_type_sparse_categorical_accuracy: 0.0000e+00\nEpoch 5/8\n184/184 [==============================] - 4s 22ms/step - loss: 0.8370 - price_loss: 0.8370 - type_loss: 3.1801 - price_sparse_categorical_accuracy: 0.6201 - type_sparse_categorical_accuracy: 1.7065e-04 - val_loss: 0.8287 - val_price_loss: 0.8287 - val_type_loss: 3.1790 - val_price_sparse_categorical_accuracy: 0.6241 - val_type_sparse_categorical_accuracy: 0.0000e+00\nEpoch 6/8\n184/184 [==============================] - 3s 19ms/step - loss: 0.8366 - price_loss: 0.8366 - type_loss: 3.1801 - price_sparse_categorical_accuracy: 0.6200 - type_sparse_categorical_accuracy: 1.7065e-04 - val_loss: 0.8281 - val_price_loss: 0.8281 - val_type_loss: 3.1791 - val_price_sparse_categorical_accuracy: 0.6241 - val_type_sparse_categorical_accuracy: 0.0000e+00\nEpoch 7/8\n184/184 [==============================] - 4s 23ms/step - loss: 0.8369 - price_loss: 0.8369 - type_loss: 3.1801 - price_sparse_categorical_accuracy: 0.6200 - type_sparse_categorical_accuracy: 1.7065e-04 - val_loss: 0.8283 - val_price_loss: 0.8283 - val_type_loss: 3.1791 - val_price_sparse_categorical_accuracy: 0.6241 - val_type_sparse_categorical_accuracy: 0.0000e+00\nEpoch 8/8\n184/184 [==============================] - 3s 17ms/step - loss: 0.8355 - price_loss: 0.8355 - type_loss: 3.1793 - price_sparse_categorical_accuracy: 0.6201 - type_sparse_categorical_accuracy: 1.7065e-04 - val_loss: 0.8205 - val_price_loss: 0.8205 - val_type_loss: 3.1722 - val_price_sparse_categorical_accuracy: 0.6241 - val_type_sparse_categorical_accuracy: 6.8213e-04\n",
          "output_type": "stream"
        }
      ]
    },
    {
      "cell_type": "code",
      "source": [
        "# prediction on the test set\n",
        "y_predict = model_4.predict(\n",
        "    {\n",
        "        'summary': df_test_text,\n",
        "        'image': df_test_image\n",
        "    }\n",
        ")\n",
        "\n",
        "\n",
        "# pridect probabilities\n",
        "price_predicted = y_predict['price']  \n",
        "\n",
        "# predict categories\n",
        "price_category_predicted = np.argmax(price_predicted, axis=1)\n",
        "print(price_category_predicted)"
      ],
      "metadata": {
        "execution": {
          "iopub.status.busy": "2023-04-14T00:15:03.194121Z",
          "iopub.execute_input": "2023-04-14T00:15:03.194859Z",
          "iopub.status.idle": "2023-04-14T00:15:05.026448Z",
          "shell.execute_reply.started": "2023-04-14T00:15:03.194823Z",
          "shell.execute_reply": "2023-04-14T00:15:05.025241Z"
        },
        "trusted": true,
        "id": "ox6_nifTTfeM",
        "outputId": "e26a7af5-cd0c-4df8-ec21-a15997f5391d"
      },
      "execution_count": null,
      "outputs": [
        {
          "name": "stdout",
          "text": "230/230 [==============================] - 1s 4ms/step\n[0 0 0 ... 0 0 0]\n",
          "output_type": "stream"
        }
      ]
    },
    {
      "cell_type": "code",
      "source": [
        "# generate a file for the fourth trial\n",
        "pd.DataFrame(\n",
        "    {'id': df_test['id'],\n",
        "     'price': price_category_predicted}\n",
        ").to_csv('submission_trail_four.csv', index=False)"
      ],
      "metadata": {
        "execution": {
          "iopub.status.busy": "2023-04-14T00:15:28.202025Z",
          "iopub.execute_input": "2023-04-14T00:15:28.202945Z",
          "iopub.status.idle": "2023-04-14T00:15:28.218508Z",
          "shell.execute_reply.started": "2023-04-14T00:15:28.202891Z",
          "shell.execute_reply": "2023-04-14T00:15:28.217569Z"
        },
        "trusted": true,
        "id": "Z4b3w0nuTfeM"
      },
      "execution_count": null,
      "outputs": []
    },
    {
      "cell_type": "markdown",
      "source": [
        "observations\n",
        "\n",
        "in this trial i used GRU layer for text input and con2D, maxpool for input image\n",
        "\n",
        "Gated Recurrent Unit(gru): this layer is a simple fully connected layer with Gated recurrent units instead of simple neurons. Gated recurrent Based on available runtime hardware and constraints, this layer will choose different implementations(cuDNN-based or pure-TensorFlow) to maximize the performance.\n",
        "\n",
        "puplic score: .6201\n",
        "\n"
      ],
      "metadata": {
        "id": "4ukG-0PKs6_J"
      }
    },
    {
      "cell_type": "markdown",
      "source": [
        "#fifth_trial (bonus)"
      ],
      "metadata": {
        "id": "YLDgjF-2eqX8"
      }
    },
    {
      "cell_type": "code",
      "source": [
        "# here we have two inputs. one for image and the other for text.\n",
        "in_text = keras.Input(batch_shape=(None, max_len))\n",
        "in_image = keras.Input(batch_shape=(None, 64, 64, 2))\n",
        "\n",
        "# text part\n",
        "embedded = keras.layers.Embedding(tokenizer.num_words, 100)(in_text)\n",
        "averaged = tf.reduce_mean(embedded, axis=1)\n",
        "\n",
        "\n",
        "# image part \n",
        "cov1 = Conv2D(10,(14,14), activation='softmax')(in_image) # 10 number of filters  and  (15, 15) size of filter\n",
        "vgg=VGG19(weights=None, input_shape=( 51, 51, 10), include_top=False)(cov1)\n",
        "flattened= Flatten()(vgg)\n",
        "\n",
        "# combine the two inputs\n",
        "fused = tf.concat([averaged, flattened], axis=-1)\n",
        "\n",
        "# one dense layer for each task\n",
        "p_type = Dense(len_type, activation='softmax', name='type')(fused)\n",
        "p_price = Dense(len_price, activation='softmax', name='price')(fused)\n",
        "\n",
        "\n",
        "# define model input/output using keys.\n",
        "model_5= keras.Model(\n",
        "    inputs={\n",
        "        'summary': in_text,\n",
        "        'image': in_image\n",
        "    },\n",
        "    outputs={\n",
        "        'type': p_type,\n",
        "        'price': p_price,\n",
        "    },\n",
        ")"
      ],
      "metadata": {
        "execution": {
          "iopub.status.busy": "2023-04-14T00:39:07.827304Z",
          "iopub.execute_input": "2023-04-14T00:39:07.828254Z",
          "iopub.status.idle": "2023-04-14T00:39:08.114047Z",
          "shell.execute_reply.started": "2023-04-14T00:39:07.828203Z",
          "shell.execute_reply": "2023-04-14T00:39:08.113048Z"
        },
        "trusted": true,
        "id": "IxxhjhwUTfeM"
      },
      "execution_count": null,
      "outputs": []
    },
    {
      "cell_type": "code",
      "source": [
        "# compile model \n",
        "model_5.compile(\n",
        "    optimizer=Adam(),\n",
        "    loss={\n",
        "        'type': 'sparse_categorical_crossentropy',\n",
        "        'price': 'sparse_categorical_crossentropy',\n",
        "    },\n",
        "    loss_weights={\n",
        "        'type': .5,\n",
        "        'price': .5,       \n",
        "    },\n",
        "    metrics={\n",
        "        'type': ['SparseCategoricalAccuracy'],\n",
        "        'price': ['SparseCategoricalAccuracy'],\n",
        "    },\n",
        ")"
      ],
      "metadata": {
        "execution": {
          "iopub.status.busy": "2023-04-14T00:39:37.545720Z",
          "iopub.execute_input": "2023-04-14T00:39:37.546166Z",
          "iopub.status.idle": "2023-04-14T00:39:37.564143Z",
          "shell.execute_reply.started": "2023-04-14T00:39:37.546125Z",
          "shell.execute_reply": "2023-04-14T00:39:37.563145Z"
        },
        "trusted": true,
        "id": "jg0LyvxRTfeM"
      },
      "execution_count": null,
      "outputs": []
    },
    {
      "cell_type": "code",
      "source": [
        "model_5.summary()"
      ],
      "metadata": {
        "execution": {
          "iopub.status.busy": "2023-04-14T00:39:39.512296Z",
          "iopub.execute_input": "2023-04-14T00:39:39.513265Z",
          "iopub.status.idle": "2023-04-14T00:39:39.546352Z",
          "shell.execute_reply.started": "2023-04-14T00:39:39.513212Z",
          "shell.execute_reply": "2023-04-14T00:39:39.545553Z"
        },
        "trusted": true,
        "id": "3zr6MNqyTfeM",
        "outputId": "ffe6bd48-98da-4db4-ad67-2384f8c16387"
      },
      "execution_count": null,
      "outputs": [
        {
          "name": "stdout",
          "text": "Model: \"model_13\"\n__________________________________________________________________________________________________\n Layer (type)                   Output Shape         Param #     Connected to                     \n==================================================================================================\n input_49 (InputLayer)          [(None, 64, 64, 2)]  0           []                               \n                                                                                                  \n input_48 (InputLayer)          [(None, 100)]        0           []                               \n                                                                                                  \n conv2d_24 (Conv2D)             (None, 51, 51, 10)   3930        ['input_49[0][0]']               \n                                                                                                  \n embedding_18 (Embedding)       (None, 100, 100)     60000000    ['input_48[0][0]']               \n                                                                                                  \n vgg19 (Functional)             (None, 1, 1, 512)    20028416    ['conv2d_24[0][0]']              \n                                                                                                  \n tf.math.reduce_mean_16 (TFOpLa  (None, 100)         0           ['embedding_18[0][0]']           \n mbda)                                                                                            \n                                                                                                  \n flatten_13 (Flatten)           (None, 512)          0           ['vgg19[0][0]']                  \n                                                                                                  \n tf.concat_13 (TFOpLambda)      (None, 612)          0           ['tf.math.reduce_mean_16[0][0]', \n                                                                  'flatten_13[0][0]']             \n                                                                                                  \n price (Dense)                  (None, 3)            1839        ['tf.concat_13[0][0]']           \n                                                                                                  \n type (Dense)                   (None, 24)           14712       ['tf.concat_13[0][0]']           \n                                                                                                  \n==================================================================================================\nTotal params: 80,048,897\nTrainable params: 80,048,897\nNon-trainable params: 0\n__________________________________________________________________________________________________\n",
          "output_type": "stream"
        }
      ]
    },
    {
      "cell_type": "code",
      "source": [
        "# train model on the train data\n",
        "history = model_5.fit(\n",
        "    x={\n",
        "        'summary': df_train_text_id,\n",
        "        'image': df_train_image\n",
        "    },\n",
        "    y={\n",
        "        'type': y_train_type,\n",
        "        'price': y_train_price,\n",
        "    },\n",
        "    epochs=8,\n",
        "    batch_size=32,\n",
        "    validation_split=0.2,\n",
        "    callbacks=[\n",
        "        tf.keras.callbacks.EarlyStopping(monitor='val_price_loss', patience=6, )\n",
        "    ],\n",
        "    verbose=1\n",
        ")"
      ],
      "metadata": {
        "execution": {
          "iopub.status.busy": "2023-04-14T00:39:43.140603Z",
          "iopub.execute_input": "2023-04-14T00:39:43.141550Z",
          "iopub.status.idle": "2023-04-14T00:41:13.445359Z",
          "shell.execute_reply.started": "2023-04-14T00:39:43.141499Z",
          "shell.execute_reply": "2023-04-14T00:41:13.444377Z"
        },
        "trusted": true,
        "id": "jU_cfpfnTfeM",
        "outputId": "b636c4d8-8443-4970-807f-058ab8aab8cf"
      },
      "execution_count": null,
      "outputs": [
        {
          "name": "stdout",
          "text": "Epoch 1/8\n184/184 [==============================] - 25s 107ms/step - loss: 1.8232 - price_loss: 1.7423 - type_loss: 1.9042 - price_sparse_categorical_accuracy: 0.5971 - type_sparse_categorical_accuracy: 0.7510 - val_loss: 0.8929 - val_price_loss: 0.8254 - val_type_loss: 0.9603 - val_price_sparse_categorical_accuracy: 0.6241 - val_type_sparse_categorical_accuracy: 0.7688\nEpoch 2/8\n184/184 [==============================] - 12s 65ms/step - loss: 0.9093 - price_loss: 0.8153 - type_loss: 1.0033 - price_sparse_categorical_accuracy: 0.6225 - type_sparse_categorical_accuracy: 0.7560 - val_loss: 0.8663 - val_price_loss: 0.7861 - val_type_loss: 0.9466 - val_price_sparse_categorical_accuracy: 0.6364 - val_type_sparse_categorical_accuracy: 0.7688\nEpoch 3/8\n184/184 [==============================] - 10s 52ms/step - loss: 0.8708 - price_loss: 0.7654 - type_loss: 0.9762 - price_sparse_categorical_accuracy: 0.6517 - type_sparse_categorical_accuracy: 0.7560 - val_loss: 0.8311 - val_price_loss: 0.7490 - val_type_loss: 0.9133 - val_price_sparse_categorical_accuracy: 0.6767 - val_type_sparse_categorical_accuracy: 0.7688\nEpoch 4/8\n184/184 [==============================] - 9s 51ms/step - loss: 0.8236 - price_loss: 0.7163 - type_loss: 0.9308 - price_sparse_categorical_accuracy: 0.6812 - type_sparse_categorical_accuracy: 0.7560 - val_loss: 0.8081 - val_price_loss: 0.7296 - val_type_loss: 0.8865 - val_price_sparse_categorical_accuracy: 0.6603 - val_type_sparse_categorical_accuracy: 0.7688\nEpoch 5/8\n184/184 [==============================] - 8s 46ms/step - loss: 0.7849 - price_loss: 0.6834 - type_loss: 0.8864 - price_sparse_categorical_accuracy: 0.6969 - type_sparse_categorical_accuracy: 0.7578 - val_loss: 0.7826 - val_price_loss: 0.7069 - val_type_loss: 0.8583 - val_price_sparse_categorical_accuracy: 0.6917 - val_type_sparse_categorical_accuracy: 0.7708\nEpoch 6/8\n184/184 [==============================] - 8s 45ms/step - loss: 0.7497 - price_loss: 0.6534 - type_loss: 0.8459 - price_sparse_categorical_accuracy: 0.7160 - type_sparse_categorical_accuracy: 0.7609 - val_loss: 0.7686 - val_price_loss: 0.6996 - val_type_loss: 0.8376 - val_price_sparse_categorical_accuracy: 0.6896 - val_type_sparse_categorical_accuracy: 0.7722\nEpoch 7/8\n184/184 [==============================] - 8s 45ms/step - loss: 0.7176 - price_loss: 0.6276 - type_loss: 0.8075 - price_sparse_categorical_accuracy: 0.7309 - type_sparse_categorical_accuracy: 0.7659 - val_loss: 0.7612 - val_price_loss: 0.7039 - val_type_loss: 0.8185 - val_price_sparse_categorical_accuracy: 0.6794 - val_type_sparse_categorical_accuracy: 0.7817\nEpoch 8/8\n184/184 [==============================] - 8s 46ms/step - loss: 0.6908 - price_loss: 0.6084 - type_loss: 0.7733 - price_sparse_categorical_accuracy: 0.7433 - type_sparse_categorical_accuracy: 0.7771 - val_loss: 0.7536 - val_price_loss: 0.7021 - val_type_loss: 0.8052 - val_price_sparse_categorical_accuracy: 0.6835 - val_type_sparse_categorical_accuracy: 0.7858\n",
          "output_type": "stream"
        }
      ]
    },
    {
      "cell_type": "code",
      "source": [
        "# prediction on the test set\n",
        "y_predict = model_5.predict(\n",
        "    {\n",
        "        'summary': df_test_text,\n",
        "        'image': df_test_image\n",
        "    }\n",
        ")\n",
        "\n",
        "\n",
        "# pridect probabilities\n",
        "price_predicted = y_predict['price']  \n",
        "\n",
        "# predict categories\n",
        "price_category_predicted = np.argmax(price_predicted, axis=1)\n",
        "print(price_category_predicted)"
      ],
      "metadata": {
        "execution": {
          "iopub.status.busy": "2023-04-14T00:41:19.868971Z",
          "iopub.execute_input": "2023-04-14T00:41:19.869361Z",
          "iopub.status.idle": "2023-04-14T00:41:23.164426Z",
          "shell.execute_reply.started": "2023-04-14T00:41:19.869326Z",
          "shell.execute_reply": "2023-04-14T00:41:23.163440Z"
        },
        "trusted": true,
        "id": "opd_lx-TTfeN",
        "outputId": "47c2f064-ecd7-4856-f002-4e015ee742d3"
      },
      "execution_count": null,
      "outputs": [
        {
          "name": "stdout",
          "text": "230/230 [==============================] - 2s 10ms/step\n[0 0 0 ... 0 0 0]\n",
          "output_type": "stream"
        }
      ]
    },
    {
      "cell_type": "code",
      "source": [
        "# generate a file for the fifth trial\n",
        "pd.DataFrame(\n",
        "    {'id': df_test['id'],\n",
        "     'price': price_category_predicted}\n",
        ").to_csv('submission_trail_five.csv', index=False)"
      ],
      "metadata": {
        "execution": {
          "iopub.status.busy": "2023-04-14T00:41:26.600024Z",
          "iopub.execute_input": "2023-04-14T00:41:26.600748Z",
          "iopub.status.idle": "2023-04-14T00:41:26.616633Z",
          "shell.execute_reply.started": "2023-04-14T00:41:26.600708Z",
          "shell.execute_reply": "2023-04-14T00:41:26.615637Z"
        },
        "trusted": true,
        "id": "bkoR_4jQTfeN"
      },
      "execution_count": null,
      "outputs": []
    },
    {
      "cell_type": "markdown",
      "source": [
        "**observations**\n",
        "\n",
        "in this trial i used tranfer learning model vgg19 for input images but i did not freez the weights i used them as a initial values while updating because vgg19 weights were updated on imagenet dataset and this problem consider out of domain so i decied to retrain the model againt to optimize the weights \n",
        "\n",
        "the puplic score: .6799"
      ],
      "metadata": {
        "id": "RLk235kLv99j"
      }
    },
    {
      "cell_type": "markdown",
      "source": [
        "#sixth_trial"
      ],
      "metadata": {
        "id": "_wCweFLoezXd"
      }
    },
    {
      "cell_type": "code",
      "source": [
        "# here we have two inputs. one for image and the other for text.\n",
        "in_text = keras.Input(batch_shape=(None, max_len))\n",
        "in_image = keras.Input(batch_shape=(None, 64, 64, 2))\n",
        "\n",
        "# text part\n",
        "embedded = keras.layers.Embedding(tokenizer.num_words, 100)(in_text)\n",
        "lstm = tf.keras.layers.LSTM(4)(embedded)\n",
        "\n",
        "\n",
        "# image part \n",
        "cov1 = Conv2D(32, (16, 16))(in_image) \n",
        "con_drop = Dropout(0.2)(cov1)\n",
        "pl = MaxPool2D((5, 5))(con_drop)\n",
        "flattened = Flatten()(pl)\n",
        "\n",
        "# cobine the two inputs\n",
        "fused = tf.concat([lstm, flattened], axis=-1)\n",
        "\n",
        "# one dense layer for each task\n",
        "p_type = Dense(len_type, activation='softmax', name='type')(fused)\n",
        "p_price = Dense(len_price, activation='softmax', name='price')(fused)\n",
        "\n",
        "\n",
        "# define model input/output using keys.\n",
        "model_6 = keras.Model(\n",
        "    inputs={\n",
        "        'summary': in_text,\n",
        "        'image': in_image\n",
        "    },\n",
        "    outputs={\n",
        "        'type': p_type,\n",
        "        'price': p_price,\n",
        "    },\n",
        ")"
      ],
      "metadata": {
        "execution": {
          "iopub.status.busy": "2023-04-14T00:53:08.893138Z",
          "iopub.execute_input": "2023-04-14T00:53:08.893524Z",
          "iopub.status.idle": "2023-04-14T00:53:09.182283Z",
          "shell.execute_reply.started": "2023-04-14T00:53:08.893492Z",
          "shell.execute_reply": "2023-04-14T00:53:09.181248Z"
        },
        "trusted": true,
        "id": "pl5rhrpbTfeN"
      },
      "execution_count": null,
      "outputs": []
    },
    {
      "cell_type": "code",
      "source": [
        "# compile the model \n",
        "model_6.compile(\n",
        "    optimizer=Adam(),\n",
        "    loss={\n",
        "        'type': 'sparse_categorical_crossentropy',\n",
        "        'price': 'sparse_categorical_crossentropy',\n",
        "    },\n",
        "    loss_weights={\n",
        "        'type': .5,\n",
        "        'price': .5,       \n",
        "    },\n",
        "    metrics={\n",
        "        'type': ['SparseCategoricalAccuracy'],\n",
        "        'price': ['SparseCategoricalAccuracy'],\n",
        "    },\n",
        ")"
      ],
      "metadata": {
        "execution": {
          "iopub.status.busy": "2023-04-14T00:53:12.017340Z",
          "iopub.execute_input": "2023-04-14T00:53:12.018059Z",
          "iopub.status.idle": "2023-04-14T00:53:12.032534Z",
          "shell.execute_reply.started": "2023-04-14T00:53:12.018008Z",
          "shell.execute_reply": "2023-04-14T00:53:12.031450Z"
        },
        "trusted": true,
        "id": "yyBnQtUTTfeN"
      },
      "execution_count": null,
      "outputs": []
    },
    {
      "cell_type": "code",
      "source": [
        "model_6.summary()"
      ],
      "metadata": {
        "execution": {
          "iopub.status.busy": "2023-04-14T00:53:14.804503Z",
          "iopub.execute_input": "2023-04-14T00:53:14.805549Z",
          "iopub.status.idle": "2023-04-14T00:53:14.841643Z",
          "shell.execute_reply.started": "2023-04-14T00:53:14.805498Z",
          "shell.execute_reply": "2023-04-14T00:53:14.840906Z"
        },
        "trusted": true,
        "id": "t6_DXv4uTfeN",
        "outputId": "d8827c93-805c-481f-b71c-25dd9d87001c"
      },
      "execution_count": null,
      "outputs": [
        {
          "name": "stdout",
          "text": "Model: \"model_15\"\n__________________________________________________________________________________________________\n Layer (type)                   Output Shape         Param #     Connected to                     \n==================================================================================================\n input_54 (InputLayer)          [(None, 64, 64, 2)]  0           []                               \n                                                                                                  \n conv2d_26 (Conv2D)             (None, 49, 49, 32)   16416       ['input_54[0][0]']               \n                                                                                                  \n input_53 (InputLayer)          [(None, 100)]        0           []                               \n                                                                                                  \n dropout_3 (Dropout)            (None, 49, 49, 32)   0           ['conv2d_26[0][0]']              \n                                                                                                  \n embedding_20 (Embedding)       (None, 100, 100)     60000000    ['input_53[0][0]']               \n                                                                                                  \n max_pooling2d_11 (MaxPooling2D  (None, 9, 9, 32)    0           ['dropout_3[0][0]']              \n )                                                                                                \n                                                                                                  \n lstm_2 (LSTM)                  (None, 4)            1680        ['embedding_20[0][0]']           \n                                                                                                  \n flatten_15 (Flatten)           (None, 2592)         0           ['max_pooling2d_11[0][0]']       \n                                                                                                  \n tf.concat_15 (TFOpLambda)      (None, 2596)         0           ['lstm_2[0][0]',                 \n                                                                  'flatten_15[0][0]']             \n                                                                                                  \n price (Dense)                  (None, 3)            7791        ['tf.concat_15[0][0]']           \n                                                                                                  \n type (Dense)                   (None, 24)           62328       ['tf.concat_15[0][0]']           \n                                                                                                  \n==================================================================================================\nTotal params: 60,088,215\nTrainable params: 60,088,215\nNon-trainable params: 0\n__________________________________________________________________________________________________\n",
          "output_type": "stream"
        }
      ]
    },
    {
      "cell_type": "code",
      "source": [
        "# train model on the train data\n",
        "history = model_6.fit(\n",
        "    x={\n",
        "        'summary': df_train_text_id,\n",
        "        'image': df_train_image\n",
        "    },\n",
        "    y={\n",
        "        'type': y_train_type,\n",
        "        'price': y_train_price,\n",
        "    },\n",
        "    epochs=8,\n",
        "    batch_size=32,\n",
        "    validation_split=0.2,\n",
        "    callbacks=[\n",
        "        tf.keras.callbacks.EarlyStopping(monitor='val_price_loss', patience=6, )\n",
        "    ],\n",
        "    verbose=1\n",
        ")"
      ],
      "metadata": {
        "execution": {
          "iopub.status.busy": "2023-04-14T00:53:19.128455Z",
          "iopub.execute_input": "2023-04-14T00:53:19.129138Z",
          "iopub.status.idle": "2023-04-14T00:54:05.033800Z",
          "shell.execute_reply.started": "2023-04-14T00:53:19.129099Z",
          "shell.execute_reply": "2023-04-14T00:54:05.032705Z"
        },
        "trusted": true,
        "id": "b38sqUVTTfeN",
        "outputId": "16109867-55f2-48d0-dddc-2d0b48d3a419"
      },
      "execution_count": null,
      "outputs": [
        {
          "name": "stdout",
          "text": "Epoch 1/8\n",
          "output_type": "stream"
        },
        {
          "name": "stderr",
          "text": "2023-04-14 00:53:21.429731: E tensorflow/core/grappler/optimizers/meta_optimizer.cc:954] layout failed: INVALID_ARGUMENT: Size of values 0 does not match size of permutation 4 @ fanin shape inmodel_15/dropout_3/dropout/SelectV2-2-TransposeNHWCToNCHW-LayoutOptimizer\n",
          "output_type": "stream"
        },
        {
          "name": "stdout",
          "text": "184/184 [==============================] - 18s 84ms/step - loss: 21.6701 - price_loss: 18.0055 - type_loss: 25.3348 - price_sparse_categorical_accuracy: 0.4875 - type_sparse_categorical_accuracy: 0.5517 - val_loss: 556.2140 - val_price_loss: 153.0490 - val_type_loss: 959.3792 - val_price_sparse_categorical_accuracy: 0.6241 - val_type_sparse_categorical_accuracy: 6.8213e-04\nEpoch 2/8\n184/184 [==============================] - 6s 34ms/step - loss: 10.7061 - price_loss: 8.4712 - type_loss: 12.9409 - price_sparse_categorical_accuracy: 0.4981 - type_sparse_categorical_accuracy: 0.5614 - val_loss: 1419.6868 - val_price_loss: 521.3991 - val_type_loss: 2317.9749 - val_price_sparse_categorical_accuracy: 0.3145 - val_type_sparse_categorical_accuracy: 0.0000e+00\nEpoch 3/8\n184/184 [==============================] - 5s 30ms/step - loss: 18.6341 - price_loss: 13.8469 - type_loss: 23.4213 - price_sparse_categorical_accuracy: 0.4814 - type_sparse_categorical_accuracy: 0.5669 - val_loss: 1253.4644 - val_price_loss: 262.7638 - val_type_loss: 2244.1650 - val_price_sparse_categorical_accuracy: 0.6241 - val_type_sparse_categorical_accuracy: 0.0000e+00\nEpoch 4/8\n184/184 [==============================] - 4s 24ms/step - loss: 14.3084 - price_loss: 11.3856 - type_loss: 17.2312 - price_sparse_categorical_accuracy: 0.4903 - type_sparse_categorical_accuracy: 0.5701 - val_loss: 943.3685 - val_price_loss: 159.9957 - val_type_loss: 1726.7415 - val_price_sparse_categorical_accuracy: 0.6241 - val_type_sparse_categorical_accuracy: 0.0000e+00\nEpoch 5/8\n184/184 [==============================] - 4s 22ms/step - loss: 12.0023 - price_loss: 9.2615 - type_loss: 14.7431 - price_sparse_categorical_accuracy: 0.4952 - type_sparse_categorical_accuracy: 0.5747 - val_loss: 407.2556 - val_price_loss: 342.2359 - val_type_loss: 472.2751 - val_price_sparse_categorical_accuracy: 0.6241 - val_type_sparse_categorical_accuracy: 0.3615\nEpoch 6/8\n184/184 [==============================] - 3s 18ms/step - loss: 19.1385 - price_loss: 14.4464 - type_loss: 23.8307 - price_sparse_categorical_accuracy: 0.4819 - type_sparse_categorical_accuracy: 0.5677 - val_loss: 3381.8857 - val_price_loss: 639.7053 - val_type_loss: 6124.0654 - val_price_sparse_categorical_accuracy: 0.6241 - val_type_sparse_categorical_accuracy: 0.0000e+00\nEpoch 7/8\n184/184 [==============================] - 4s 20ms/step - loss: 18.7830 - price_loss: 15.1481 - type_loss: 22.4179 - price_sparse_categorical_accuracy: 0.4788 - type_sparse_categorical_accuracy: 0.5626 - val_loss: 1183.4846 - val_price_loss: 504.7801 - val_type_loss: 1862.1896 - val_price_sparse_categorical_accuracy: 0.6241 - val_type_sparse_categorical_accuracy: 0.0000e+00\n",
          "output_type": "stream"
        }
      ]
    },
    {
      "cell_type": "code",
      "source": [
        "# prediction on the test set\n",
        "y_predict = model_6.predict(\n",
        "    {\n",
        "        'summary': df_test_text,\n",
        "        'image': df_test_image\n",
        "    }\n",
        ")\n",
        "\n",
        "\n",
        "# pridect probabilities\n",
        "price_predicted = y_predict['price']  \n",
        "\n",
        "# predict categories\n",
        "price_category_predicted = np.argmax(price_predicted, axis=1)\n",
        "print(price_category_predicted)"
      ],
      "metadata": {
        "execution": {
          "iopub.status.busy": "2023-04-14T00:54:43.701587Z",
          "iopub.execute_input": "2023-04-14T00:54:43.702332Z",
          "iopub.status.idle": "2023-04-14T00:55:45.286537Z",
          "shell.execute_reply.started": "2023-04-14T00:54:43.702291Z",
          "shell.execute_reply": "2023-04-14T00:55:45.285442Z"
        },
        "trusted": true,
        "id": "I1g5-dwXTfeO",
        "outputId": "6a87b3a2-c33b-46fa-d65e-cfd85cd1c21d"
      },
      "execution_count": null,
      "outputs": [
        {
          "name": "stdout",
          "text": "230/230 [==============================] - 1s 4ms/step\n[0 0 0 ... 0 0 0]\n",
          "output_type": "stream"
        }
      ]
    },
    {
      "cell_type": "code",
      "source": [
        "# generate a file for the last trial\n",
        "pd.DataFrame(\n",
        "    {'id': df_test['id'],\n",
        "     'price': price_category_predicted}\n",
        ").to_csv('submission_trail_six.csv', index=False)"
      ],
      "metadata": {
        "execution": {
          "iopub.status.busy": "2023-04-14T00:55:45.290981Z",
          "iopub.execute_input": "2023-04-14T00:55:45.293485Z",
          "iopub.status.idle": "2023-04-14T00:55:45.315009Z",
          "shell.execute_reply.started": "2023-04-14T00:55:45.293441Z",
          "shell.execute_reply": "2023-04-14T00:55:45.314129Z"
        },
        "trusted": true,
        "id": "kc37pb6nTfeO"
      },
      "execution_count": null,
      "outputs": []
    },
    {
      "cell_type": "markdown",
      "source": [
        "**observations**\n",
        "\n",
        "in this trial i used LSTM layer to input text\n",
        "\n",
        "LSTM stands for Long Short-Term Memory and is a type of recurrent neural network (RNN) architecture used for sequence modeling and prediction tasks. and designed to avoid the long-term dependency problem.\n",
        "\n",
        "the puplic score: .6407"
      ],
      "metadata": {
        "id": "IUcqujdDy59p"
      }
    }
  ]
}